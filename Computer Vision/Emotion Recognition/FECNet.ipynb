{
  "nbformat": 4,
  "nbformat_minor": 0,
  "metadata": {
    "colab": {
      "name": "FECNet.ipynb",
      "provenance": [],
      "collapsed_sections": []
    },
    "kernelspec": {
      "name": "python3",
      "display_name": "Python 3"
    },
    "accelerator": "GPU"
  },
  "cells": [
    {
      "cell_type": "markdown",
      "metadata": {
        "id": "EegdLp53xF3A",
        "colab_type": "text"
      },
      "source": [
        "### Facial Expression Comparison (in progress)  \n",
        "\n",
        "Implementation of the paper: http://openaccess.thecvf.com/content_CVPR_2019/html/Vemulapalli_A_Compact_Embedding_for_Facial_Expression_Similarity_CVPR_2019_paper"
      ]
    },
    {
      "cell_type": "code",
      "metadata": {
        "id": "UzV5aaflDWKw",
        "colab_type": "code",
        "outputId": "f3cb4dda-e1bd-4137-bc9f-42c6303b1cbf",
        "colab": {
          "base_uri": "https://localhost:8080/",
          "height": 122
        }
      },
      "source": [
        "from google.colab import drive\n",
        "drive.mount('/content/drive', force_remount=True)"
      ],
      "execution_count": 1,
      "outputs": [
        {
          "output_type": "stream",
          "text": [
            "Go to this URL in a browser: https://accounts.google.com/o/oauth2/auth?client_id=947318989803-6bn6qk8qdgf4n4g3pfee6491hc0brc4i.apps.googleusercontent.com&redirect_uri=urn%3aietf%3awg%3aoauth%3a2.0%3aoob&response_type=code&scope=email%20https%3a%2f%2fwww.googleapis.com%2fauth%2fdocs.test%20https%3a%2f%2fwww.googleapis.com%2fauth%2fdrive%20https%3a%2f%2fwww.googleapis.com%2fauth%2fdrive.photos.readonly%20https%3a%2f%2fwww.googleapis.com%2fauth%2fpeopleapi.readonly\n",
            "\n",
            "Enter your authorization code:\n",
            "··········\n",
            "Mounted at /content/drive\n"
          ],
          "name": "stdout"
        }
      ]
    },
    {
      "cell_type": "code",
      "metadata": {
        "id": "7c4EvDifMW1d",
        "colab_type": "code",
        "colab": {}
      },
      "source": [
        "!unzip -q \"./drive/My Drive/Datasets/FEC_cropped/1\""
      ],
      "execution_count": 0,
      "outputs": []
    },
    {
      "cell_type": "code",
      "metadata": {
        "id": "4cF0wggZELog",
        "colab_type": "code",
        "colab": {}
      },
      "source": [
        "!unzip -q \"./drive/My Drive/Datasets/FEC_cropped/2\""
      ],
      "execution_count": 0,
      "outputs": []
    },
    {
      "cell_type": "code",
      "metadata": {
        "id": "bzqgw9KLEMWy",
        "colab_type": "code",
        "colab": {}
      },
      "source": [
        "!unzip -q \"./drive/My Drive/Datasets/FEC_cropped/3\""
      ],
      "execution_count": 0,
      "outputs": []
    },
    {
      "cell_type": "code",
      "metadata": {
        "id": "_G0hrsaBCKjw",
        "colab_type": "code",
        "outputId": "3cfe7659-6dcc-4ee8-a2e8-6c0a040de714",
        "colab": {
          "base_uri": "https://localhost:8080/",
          "height": 887
        }
      },
      "source": [
        "!pip install tensorflow-gpu==2.0"
      ],
      "execution_count": 5,
      "outputs": [
        {
          "output_type": "stream",
          "text": [
            "Collecting tensorflow-gpu==2.0\n",
            "\u001b[?25l  Downloading https://files.pythonhosted.org/packages/25/44/47f0722aea081697143fbcf5d2aa60d1aee4aaacb5869aee2b568974777b/tensorflow_gpu-2.0.0-cp36-cp36m-manylinux2010_x86_64.whl (380.8MB)\n",
            "\u001b[K     |████████████████████████████████| 380.8MB 44kB/s \n",
            "\u001b[?25hRequirement already satisfied: grpcio>=1.8.6 in /usr/local/lib/python3.6/dist-packages (from tensorflow-gpu==2.0) (1.27.1)\n",
            "Requirement already satisfied: google-pasta>=0.1.6 in /usr/local/lib/python3.6/dist-packages (from tensorflow-gpu==2.0) (0.1.8)\n",
            "Requirement already satisfied: numpy<2.0,>=1.16.0 in /usr/local/lib/python3.6/dist-packages (from tensorflow-gpu==2.0) (1.17.5)\n",
            "Requirement already satisfied: protobuf>=3.6.1 in /usr/local/lib/python3.6/dist-packages (from tensorflow-gpu==2.0) (3.10.0)\n",
            "Collecting tensorflow-estimator<2.1.0,>=2.0.0\n",
            "\u001b[?25l  Downloading https://files.pythonhosted.org/packages/fc/08/8b927337b7019c374719145d1dceba21a8bb909b93b1ad6f8fb7d22c1ca1/tensorflow_estimator-2.0.1-py2.py3-none-any.whl (449kB)\n",
            "\u001b[K     |████████████████████████████████| 450kB 43.1MB/s \n",
            "\u001b[?25hRequirement already satisfied: absl-py>=0.7.0 in /usr/local/lib/python3.6/dist-packages (from tensorflow-gpu==2.0) (0.9.0)\n",
            "Requirement already satisfied: opt-einsum>=2.3.2 in /usr/local/lib/python3.6/dist-packages (from tensorflow-gpu==2.0) (3.1.0)\n",
            "Requirement already satisfied: wheel>=0.26 in /usr/local/lib/python3.6/dist-packages (from tensorflow-gpu==2.0) (0.34.2)\n",
            "Requirement already satisfied: termcolor>=1.1.0 in /usr/local/lib/python3.6/dist-packages (from tensorflow-gpu==2.0) (1.1.0)\n",
            "Requirement already satisfied: six>=1.10.0 in /usr/local/lib/python3.6/dist-packages (from tensorflow-gpu==2.0) (1.12.0)\n",
            "Collecting tensorboard<2.1.0,>=2.0.0\n",
            "\u001b[?25l  Downloading https://files.pythonhosted.org/packages/76/54/99b9d5d52d5cb732f099baaaf7740403e83fe6b0cedde940fabd2b13d75a/tensorboard-2.0.2-py3-none-any.whl (3.8MB)\n",
            "\u001b[K     |████████████████████████████████| 3.8MB 53.9MB/s \n",
            "\u001b[?25hRequirement already satisfied: astor>=0.6.0 in /usr/local/lib/python3.6/dist-packages (from tensorflow-gpu==2.0) (0.8.1)\n",
            "Requirement already satisfied: keras-preprocessing>=1.0.5 in /usr/local/lib/python3.6/dist-packages (from tensorflow-gpu==2.0) (1.1.0)\n",
            "Requirement already satisfied: wrapt>=1.11.1 in /usr/local/lib/python3.6/dist-packages (from tensorflow-gpu==2.0) (1.11.2)\n",
            "Requirement already satisfied: keras-applications>=1.0.8 in /usr/local/lib/python3.6/dist-packages (from tensorflow-gpu==2.0) (1.0.8)\n",
            "Requirement already satisfied: gast==0.2.2 in /usr/local/lib/python3.6/dist-packages (from tensorflow-gpu==2.0) (0.2.2)\n",
            "Requirement already satisfied: setuptools in /usr/local/lib/python3.6/dist-packages (from protobuf>=3.6.1->tensorflow-gpu==2.0) (45.2.0)\n",
            "Requirement already satisfied: werkzeug>=0.11.15 in /usr/local/lib/python3.6/dist-packages (from tensorboard<2.1.0,>=2.0.0->tensorflow-gpu==2.0) (1.0.0)\n",
            "Requirement already satisfied: requests<3,>=2.21.0 in /usr/local/lib/python3.6/dist-packages (from tensorboard<2.1.0,>=2.0.0->tensorflow-gpu==2.0) (2.21.0)\n",
            "Requirement already satisfied: google-auth<2,>=1.6.3 in /usr/local/lib/python3.6/dist-packages (from tensorboard<2.1.0,>=2.0.0->tensorflow-gpu==2.0) (1.7.2)\n",
            "Requirement already satisfied: markdown>=2.6.8 in /usr/local/lib/python3.6/dist-packages (from tensorboard<2.1.0,>=2.0.0->tensorflow-gpu==2.0) (3.2.1)\n",
            "Requirement already satisfied: google-auth-oauthlib<0.5,>=0.4.1 in /usr/local/lib/python3.6/dist-packages (from tensorboard<2.1.0,>=2.0.0->tensorflow-gpu==2.0) (0.4.1)\n",
            "Requirement already satisfied: h5py in /usr/local/lib/python3.6/dist-packages (from keras-applications>=1.0.8->tensorflow-gpu==2.0) (2.8.0)\n",
            "Requirement already satisfied: certifi>=2017.4.17 in /usr/local/lib/python3.6/dist-packages (from requests<3,>=2.21.0->tensorboard<2.1.0,>=2.0.0->tensorflow-gpu==2.0) (2019.11.28)\n",
            "Requirement already satisfied: urllib3<1.25,>=1.21.1 in /usr/local/lib/python3.6/dist-packages (from requests<3,>=2.21.0->tensorboard<2.1.0,>=2.0.0->tensorflow-gpu==2.0) (1.24.3)\n",
            "Requirement already satisfied: chardet<3.1.0,>=3.0.2 in /usr/local/lib/python3.6/dist-packages (from requests<3,>=2.21.0->tensorboard<2.1.0,>=2.0.0->tensorflow-gpu==2.0) (3.0.4)\n",
            "Requirement already satisfied: idna<2.9,>=2.5 in /usr/local/lib/python3.6/dist-packages (from requests<3,>=2.21.0->tensorboard<2.1.0,>=2.0.0->tensorflow-gpu==2.0) (2.8)\n",
            "Requirement already satisfied: rsa<4.1,>=3.1.4 in /usr/local/lib/python3.6/dist-packages (from google-auth<2,>=1.6.3->tensorboard<2.1.0,>=2.0.0->tensorflow-gpu==2.0) (4.0)\n",
            "Requirement already satisfied: cachetools<3.2,>=2.0.0 in /usr/local/lib/python3.6/dist-packages (from google-auth<2,>=1.6.3->tensorboard<2.1.0,>=2.0.0->tensorflow-gpu==2.0) (3.1.1)\n",
            "Requirement already satisfied: pyasn1-modules>=0.2.1 in /usr/local/lib/python3.6/dist-packages (from google-auth<2,>=1.6.3->tensorboard<2.1.0,>=2.0.0->tensorflow-gpu==2.0) (0.2.8)\n",
            "Requirement already satisfied: requests-oauthlib>=0.7.0 in /usr/local/lib/python3.6/dist-packages (from google-auth-oauthlib<0.5,>=0.4.1->tensorboard<2.1.0,>=2.0.0->tensorflow-gpu==2.0) (1.3.0)\n",
            "Requirement already satisfied: pyasn1>=0.1.3 in /usr/local/lib/python3.6/dist-packages (from rsa<4.1,>=3.1.4->google-auth<2,>=1.6.3->tensorboard<2.1.0,>=2.0.0->tensorflow-gpu==2.0) (0.4.8)\n",
            "Requirement already satisfied: oauthlib>=3.0.0 in /usr/local/lib/python3.6/dist-packages (from requests-oauthlib>=0.7.0->google-auth-oauthlib<0.5,>=0.4.1->tensorboard<2.1.0,>=2.0.0->tensorflow-gpu==2.0) (3.1.0)\n",
            "\u001b[31mERROR: tensorflow 1.15.0 has requirement tensorboard<1.16.0,>=1.15.0, but you'll have tensorboard 2.0.2 which is incompatible.\u001b[0m\n",
            "\u001b[31mERROR: tensorflow 1.15.0 has requirement tensorflow-estimator==1.15.1, but you'll have tensorflow-estimator 2.0.1 which is incompatible.\u001b[0m\n",
            "Installing collected packages: tensorflow-estimator, tensorboard, tensorflow-gpu\n",
            "  Found existing installation: tensorflow-estimator 1.15.1\n",
            "    Uninstalling tensorflow-estimator-1.15.1:\n",
            "      Successfully uninstalled tensorflow-estimator-1.15.1\n",
            "  Found existing installation: tensorboard 1.15.0\n",
            "    Uninstalling tensorboard-1.15.0:\n",
            "      Successfully uninstalled tensorboard-1.15.0\n",
            "Successfully installed tensorboard-2.0.2 tensorflow-estimator-2.0.1 tensorflow-gpu-2.0.0\n"
          ],
          "name": "stdout"
        }
      ]
    },
    {
      "cell_type": "code",
      "metadata": {
        "id": "BIL6ZS1lCT8r",
        "colab_type": "code",
        "outputId": "3f573971-b117-42ec-c09b-2810e69de7bd",
        "colab": {
          "base_uri": "https://localhost:8080/",
          "height": 34
        }
      },
      "source": [
        "from __future__ import absolute_import, division, print_function, unicode_literals\n",
        "\n",
        "import os\n",
        "import csv\n",
        "import cv2\n",
        "import tensorflow as tf\n",
        "from tensorflow import keras\n",
        "from tensorflow.keras import layers\n",
        "import IPython.display as display\n",
        "from PIL import Image\n",
        "import numpy as np\n",
        "import matplotlib.pyplot as plt\n",
        "from tensorflow.keras.preprocessing.image import ImageDataGenerator\n",
        "import pandas as pd\n",
        "\n",
        "print(tf.version.VERSION)"
      ],
      "execution_count": 6,
      "outputs": [
        {
          "output_type": "stream",
          "text": [
            "2.0.0\n"
          ],
          "name": "stdout"
        }
      ]
    },
    {
      "cell_type": "code",
      "metadata": {
        "id": "_8pMIXKIFzHM",
        "colab_type": "code",
        "colab": {}
      },
      "source": [
        "files_1 = os.listdir(\"./1\")\n",
        "files_2 = os.listdir(\"./2\")\n",
        "files_3 = os.listdir(\"./3\")"
      ],
      "execution_count": 0,
      "outputs": []
    },
    {
      "cell_type": "code",
      "metadata": {
        "id": "qvG7852TFy7y",
        "colab_type": "code",
        "colab": {}
      },
      "source": [
        "names_1 = [int(name.split(\".\")[0]) for name in files_1]\n",
        "names_1.sort()\n",
        "names_2 = [int(name.split(\".\")[0]) for name in files_2]\n",
        "names_2.sort()\n",
        "names_3 = [int(name.split(\".\")[0]) for name in files_3]\n",
        "names_3.sort()"
      ],
      "execution_count": 0,
      "outputs": []
    },
    {
      "cell_type": "code",
      "metadata": {
        "id": "t9ayoa_IIqdy",
        "colab_type": "code",
        "outputId": "8ae6b0ac-6fcb-4dcb-d1b6-b80cf00d1f29",
        "colab": {
          "base_uri": "https://localhost:8080/",
          "height": 34
        }
      },
      "source": [
        "print(names_1[-1], names_2[-1], names_3[-1])"
      ],
      "execution_count": 9,
      "outputs": [
        {
          "output_type": "stream",
          "text": [
            "449142 449142 449142\n"
          ],
          "name": "stdout"
        }
      ]
    },
    {
      "cell_type": "code",
      "metadata": {
        "id": "6krLOr-MFytA",
        "colab_type": "code",
        "colab": {}
      },
      "source": [
        "n = max(names_1[-1], names_2[-1], names_3[-1])\n",
        "check_list1 = [False] * n\n",
        "check_list2 = [False] * n\n",
        "check_list3 = [False] * n\n",
        "for x in names_1:\n",
        "  check_list1[x-1] = True\n",
        "for x in names_2:\n",
        "  check_list2[x-1] = True\n",
        "for x in names_3:\n",
        "  check_list3[x-1] = True"
      ],
      "execution_count": 0,
      "outputs": []
    },
    {
      "cell_type": "code",
      "metadata": {
        "id": "I04Yc_enFybS",
        "colab_type": "code",
        "colab": {}
      },
      "source": [
        "check_list_all = [False] * n\n",
        "for i in range(n):\n",
        "  if check_list1[i] and check_list2[i] and check_list3[i]:\n",
        "    check_list_all[i] = True"
      ],
      "execution_count": 0,
      "outputs": []
    },
    {
      "cell_type": "code",
      "metadata": {
        "id": "6aiZfE1kKxCC",
        "colab_type": "code",
        "colab": {}
      },
      "source": [
        "names_list = [(i+1) for i in range(n) if check_list_all[i]]"
      ],
      "execution_count": 0,
      "outputs": []
    },
    {
      "cell_type": "code",
      "metadata": {
        "id": "w5nr08_1Kw9E",
        "colab_type": "code",
        "colab": {}
      },
      "source": [
        "files_list = [(str(a) + \".jpg\") for a in names_list]"
      ],
      "execution_count": 0,
      "outputs": []
    },
    {
      "cell_type": "code",
      "metadata": {
        "id": "bBg4rWQERzL0",
        "colab_type": "code",
        "outputId": "ad232385-8cb2-4574-abc3-73e20a73978d",
        "colab": {
          "base_uri": "https://localhost:8080/",
          "height": 34
        }
      },
      "source": [
        "print(len(files_list))"
      ],
      "execution_count": 14,
      "outputs": [
        {
          "output_type": "stream",
          "text": [
            "399967\n"
          ],
          "name": "stdout"
        }
      ]
    },
    {
      "cell_type": "code",
      "metadata": {
        "id": "OHbqAv9CKw2X",
        "colab_type": "code",
        "colab": {}
      },
      "source": [
        "with open('./files_list.txt', 'w') as f:\n",
        "    for item in files_list:\n",
        "        f.write(\"%s\\n\" % item)"
      ],
      "execution_count": 0,
      "outputs": []
    },
    {
      "cell_type": "code",
      "metadata": {
        "id": "svmKgASLWkjw",
        "colab_type": "code",
        "colab": {}
      },
      "source": [
        "FEC_SIZE = len(files_list)"
      ],
      "execution_count": 0,
      "outputs": []
    },
    {
      "cell_type": "code",
      "metadata": {
        "id": "XlxDpFv6aiey",
        "colab_type": "code",
        "colab": {}
      },
      "source": [
        "files_list1 = [(\"./1/\" + a) for a in files_list]\n",
        "files_list2 = [(\"./2/\" + a) for a in files_list]\n",
        "files_list3 = [(\"./3/\" + a) for a in files_list]"
      ],
      "execution_count": 0,
      "outputs": []
    },
    {
      "cell_type": "code",
      "metadata": {
        "id": "FyDjCSXZauFw",
        "colab_type": "code",
        "outputId": "e0dbe055-0e4f-4c9c-94eb-d48d1ca739bf",
        "colab": {
          "base_uri": "https://localhost:8080/",
          "height": 34
        }
      },
      "source": [
        "print(files_list1[0], files_list2[0], files_list3[0])"
      ],
      "execution_count": 18,
      "outputs": [
        {
          "output_type": "stream",
          "text": [
            "./1/1.jpg ./2/1.jpg ./3/1.jpg\n"
          ],
          "name": "stdout"
        }
      ]
    },
    {
      "cell_type": "code",
      "metadata": {
        "id": "g058kNt4KwsS",
        "colab_type": "code",
        "colab": {}
      },
      "source": [
        "list_ds1 = tf.data.Dataset.from_tensor_slices(files_list1)\n",
        "list_ds2 = tf.data.Dataset.from_tensor_slices(files_list2)\n",
        "list_ds3 = tf.data.Dataset.from_tensor_slices(files_list3)"
      ],
      "execution_count": 0,
      "outputs": []
    },
    {
      "cell_type": "code",
      "metadata": {
        "id": "9O-oz5muZuWw",
        "colab_type": "code",
        "colab": {}
      },
      "source": [
        "triplets_list_ds = tf.data.Dataset.zip((list_ds1, list_ds2, list_ds3))"
      ],
      "execution_count": 0,
      "outputs": []
    },
    {
      "cell_type": "code",
      "metadata": {
        "id": "jvh-4maXe_su",
        "colab_type": "code",
        "colab": {}
      },
      "source": [
        "triplets_list_ds = triplets_list_ds.shuffle(500000)"
      ],
      "execution_count": 0,
      "outputs": []
    },
    {
      "cell_type": "code",
      "metadata": {
        "id": "7JmtjNv8WqDz",
        "colab_type": "code",
        "colab": {}
      },
      "source": [
        "TRAIN_SIZE = 320000\n",
        "VALIDATION_SIZE = FEC_SIZE - TRAIN_SIZE"
      ],
      "execution_count": 0,
      "outputs": []
    },
    {
      "cell_type": "code",
      "metadata": {
        "id": "KSU7tvCKhlNI",
        "colab_type": "code",
        "colab": {}
      },
      "source": [
        "train_files_ds = triplets_list_ds.take(TRAIN_SIZE)\n",
        "valid_files_ds = triplets_list_ds.skip(TRAIN_SIZE)"
      ],
      "execution_count": 0,
      "outputs": []
    },
    {
      "cell_type": "code",
      "metadata": {
        "id": "JOV8vMsRQoBA",
        "colab_type": "code",
        "outputId": "c8f9fceb-8d16-4c75-bed1-29346a482658",
        "colab": {
          "base_uri": "https://localhost:8080/",
          "height": 102
        }
      },
      "source": [
        "for f in list_ds2.take(5):\n",
        "  print(tf.strings.to_number(tf.strings.split(tf.strings.split(f, sep=\"/\")[-1], sep=\".\")[0], out_type=tf.int32))"
      ],
      "execution_count": 24,
      "outputs": [
        {
          "output_type": "stream",
          "text": [
            "tf.Tensor(1, shape=(), dtype=int32)\n",
            "tf.Tensor(2, shape=(), dtype=int32)\n",
            "tf.Tensor(3, shape=(), dtype=int32)\n",
            "tf.Tensor(4, shape=(), dtype=int32)\n",
            "tf.Tensor(5, shape=(), dtype=int32)\n"
          ],
          "name": "stdout"
        }
      ]
    },
    {
      "cell_type": "code",
      "metadata": {
        "id": "N38O-o4YaGC3",
        "colab_type": "code",
        "outputId": "6d53468f-a1cc-4205-d98f-9a2f83431f26",
        "colab": {
          "base_uri": "https://localhost:8080/",
          "height": 102
        }
      },
      "source": [
        "for a, b, c in valid_files_ds.take(5):\n",
        "  print(a.numpy(), b.numpy(), c.numpy())"
      ],
      "execution_count": 25,
      "outputs": [
        {
          "output_type": "stream",
          "text": [
            "b'./1/346905.jpg' b'./2/346905.jpg' b'./3/346905.jpg'\n",
            "b'./1/115413.jpg' b'./2/115413.jpg' b'./3/115413.jpg'\n",
            "b'./1/31914.jpg' b'./2/31914.jpg' b'./3/31914.jpg'\n",
            "b'./1/422085.jpg' b'./2/422085.jpg' b'./3/422085.jpg'\n",
            "b'./1/259737.jpg' b'./2/259737.jpg' b'./3/259737.jpg'\n"
          ],
          "name": "stdout"
        }
      ]
    },
    {
      "cell_type": "code",
      "metadata": {
        "id": "H-2uqyxGQn3T",
        "colab_type": "code",
        "colab": {}
      },
      "source": [
        "data = pd.read_csv(\"./drive/My Drive/Datasets/FEC/train.csv\")"
      ],
      "execution_count": 0,
      "outputs": []
    },
    {
      "cell_type": "code",
      "metadata": {
        "id": "9VFy5df5VuYN",
        "colab_type": "code",
        "outputId": "31886902-9ff6-4f96-c32e-13e4254d5702",
        "colab": {
          "base_uri": "https://localhost:8080/",
          "height": 241
        }
      },
      "source": [
        "data.head()"
      ],
      "execution_count": 27,
      "outputs": [
        {
          "output_type": "execute_result",
          "data": {
            "text/html": [
              "<div>\n",
              "<style scoped>\n",
              "    .dataframe tbody tr th:only-of-type {\n",
              "        vertical-align: middle;\n",
              "    }\n",
              "\n",
              "    .dataframe tbody tr th {\n",
              "        vertical-align: top;\n",
              "    }\n",
              "\n",
              "    .dataframe thead th {\n",
              "        text-align: right;\n",
              "    }\n",
              "</style>\n",
              "<table border=\"1\" class=\"dataframe\">\n",
              "  <thead>\n",
              "    <tr style=\"text-align: right;\">\n",
              "      <th></th>\n",
              "      <th>link1</th>\n",
              "      <th>x_min1</th>\n",
              "      <th>x_max1</th>\n",
              "      <th>y_min1</th>\n",
              "      <th>y_max1</th>\n",
              "      <th>link2</th>\n",
              "      <th>x_min2</th>\n",
              "      <th>x_max2</th>\n",
              "      <th>y_min2</th>\n",
              "      <th>y_max2</th>\n",
              "      <th>link3</th>\n",
              "      <th>x_min3</th>\n",
              "      <th>x_max3</th>\n",
              "      <th>y_min3</th>\n",
              "      <th>y_max3</th>\n",
              "      <th>class_type</th>\n",
              "      <th>col17</th>\n",
              "      <th>col18</th>\n",
              "      <th>col19</th>\n",
              "      <th>col20</th>\n",
              "      <th>col21</th>\n",
              "      <th>col22</th>\n",
              "      <th>col23</th>\n",
              "      <th>col24</th>\n",
              "      <th>col25</th>\n",
              "      <th>col26</th>\n",
              "      <th>col27</th>\n",
              "      <th>col28</th>\n",
              "      <th>col29</th>\n",
              "      <th>col30</th>\n",
              "      <th>col31</th>\n",
              "      <th>col32</th>\n",
              "      <th>col33</th>\n",
              "      <th>Unnamed: 33</th>\n",
              "      <th>Unnamed: 34</th>\n",
              "      <th>Unnamed: 35</th>\n",
              "      <th>Unnamed: 36</th>\n",
              "      <th>Unnamed: 37</th>\n",
              "      <th>Unnamed: 38</th>\n",
              "    </tr>\n",
              "  </thead>\n",
              "  <tbody>\n",
              "    <tr>\n",
              "      <th>0</th>\n",
              "      <td>http://farm5.staticflickr.com/4108/5185055338_...</td>\n",
              "      <td>0.142578</td>\n",
              "      <td>0.266602</td>\n",
              "      <td>0.065421</td>\n",
              "      <td>0.297508</td>\n",
              "      <td>http://farm4.staticflickr.com/3543/3387356856_...</td>\n",
              "      <td>0.335938</td>\n",
              "      <td>0.441406</td>\n",
              "      <td>0.130307</td>\n",
              "      <td>0.311859</td>\n",
              "      <td>http://farm4.staticflickr.com/3674/9280612097_...</td>\n",
              "      <td>0.359307</td>\n",
              "      <td>0.562771</td>\n",
              "      <td>0.514648</td>\n",
              "      <td>0.673828</td>\n",
              "      <td>TWO_CLASS_TRIPLET</td>\n",
              "      <td>291701</td>\n",
              "      <td>3</td>\n",
              "      <td>321402</td>\n",
              "      <td>2</td>\n",
              "      <td>321601</td>\n",
              "      <td>3</td>\n",
              "      <td>4295017797</td>\n",
              "      <td>2</td>\n",
              "      <td>4295017896</td>\n",
              "      <td>2</td>\n",
              "      <td>48316</td>\n",
              "      <td>2</td>\n",
              "      <td>NaN</td>\n",
              "      <td>1</td>\n",
              "      <td>1</td>\n",
              "      <td>1</td>\n",
              "      <td>1</td>\n",
              "      <td>NaN</td>\n",
              "      <td>NaN</td>\n",
              "      <td>NaN</td>\n",
              "      <td>NaN</td>\n",
              "      <td>NaN</td>\n",
              "      <td>NaN</td>\n",
              "    </tr>\n",
              "    <tr>\n",
              "      <th>1</th>\n",
              "      <td>http://farm4.staticflickr.com/3338/3571087393_...</td>\n",
              "      <td>0.645508</td>\n",
              "      <td>0.710938</td>\n",
              "      <td>0.053571</td>\n",
              "      <td>0.517857</td>\n",
              "      <td>http://farm3.staticflickr.com/2915/14407773031...</td>\n",
              "      <td>0.363281</td>\n",
              "      <td>0.482422</td>\n",
              "      <td>0.076125</td>\n",
              "      <td>0.321799</td>\n",
              "      <td>http://farm4.staticflickr.com/3674/9280612097_...</td>\n",
              "      <td>0.359307</td>\n",
              "      <td>0.562771</td>\n",
              "      <td>0.514648</td>\n",
              "      <td>0.673828</td>\n",
              "      <td>ONE_CLASS_TRIPLET</td>\n",
              "      <td>147101</td>\n",
              "      <td>3</td>\n",
              "      <td>291301</td>\n",
              "      <td>3</td>\n",
              "      <td>300701</td>\n",
              "      <td>2</td>\n",
              "      <td>321501</td>\n",
              "      <td>2</td>\n",
              "      <td>4294978797</td>\n",
              "      <td>2</td>\n",
              "      <td>4294989896</td>\n",
              "      <td>3</td>\n",
              "      <td>NaN</td>\n",
              "      <td>29963</td>\n",
              "      <td>14</td>\n",
              "      <td>1</td>\n",
              "      <td>2</td>\n",
              "      <td>NaN</td>\n",
              "      <td>NaN</td>\n",
              "      <td>NaN</td>\n",
              "      <td>NaN</td>\n",
              "      <td>NaN</td>\n",
              "      <td>NaN</td>\n",
              "    </tr>\n",
              "    <tr>\n",
              "      <th>2</th>\n",
              "      <td>http://farm6.staticflickr.com/5087/5289788172_...</td>\n",
              "      <td>0.206055</td>\n",
              "      <td>0.290039</td>\n",
              "      <td>0.217610</td>\n",
              "      <td>0.343396</td>\n",
              "      <td>http://farm3.staticflickr.com/2771/4359780393_...</td>\n",
              "      <td>0.000000</td>\n",
              "      <td>0.123047</td>\n",
              "      <td>0.201471</td>\n",
              "      <td>0.472059</td>\n",
              "      <td>http://farm4.staticflickr.com/3674/9280612097_...</td>\n",
              "      <td>0.359307</td>\n",
              "      <td>0.562771</td>\n",
              "      <td>0.514648</td>\n",
              "      <td>0.673828</td>\n",
              "      <td>ONE_CLASS_TRIPLET</td>\n",
              "      <td>269701</td>\n",
              "      <td>3</td>\n",
              "      <td>300901</td>\n",
              "      <td>3</td>\n",
              "      <td>321601</td>\n",
              "      <td>3</td>\n",
              "      <td>321902</td>\n",
              "      <td>3</td>\n",
              "      <td>322102</td>\n",
              "      <td>3</td>\n",
              "      <td>41207</td>\n",
              "      <td>3</td>\n",
              "      <td>NaN</td>\n",
              "      <td>57264</td>\n",
              "      <td>25</td>\n",
              "      <td>1</td>\n",
              "      <td>3</td>\n",
              "      <td>NaN</td>\n",
              "      <td>NaN</td>\n",
              "      <td>NaN</td>\n",
              "      <td>NaN</td>\n",
              "      <td>NaN</td>\n",
              "      <td>NaN</td>\n",
              "    </tr>\n",
              "    <tr>\n",
              "      <th>3</th>\n",
              "      <td>http://farm8.staticflickr.com/7001/13409767313...</td>\n",
              "      <td>0.028320</td>\n",
              "      <td>0.112305</td>\n",
              "      <td>0.474692</td>\n",
              "      <td>0.611491</td>\n",
              "      <td>http://farm8.staticflickr.com/7435/10257752223...</td>\n",
              "      <td>0.537949</td>\n",
              "      <td>0.696405</td>\n",
              "      <td>0.060547</td>\n",
              "      <td>0.195312</td>\n",
              "      <td>http://farm4.staticflickr.com/3674/9280612097_...</td>\n",
              "      <td>0.359307</td>\n",
              "      <td>0.562771</td>\n",
              "      <td>0.514648</td>\n",
              "      <td>0.673828</td>\n",
              "      <td>THREE_CLASS_TRIPLET</td>\n",
              "      <td>291701</td>\n",
              "      <td>1</td>\n",
              "      <td>321601</td>\n",
              "      <td>3</td>\n",
              "      <td>321902</td>\n",
              "      <td>2</td>\n",
              "      <td>322102</td>\n",
              "      <td>2</td>\n",
              "      <td>4294978797</td>\n",
              "      <td>3</td>\n",
              "      <td>48316</td>\n",
              "      <td>1</td>\n",
              "      <td>NaN</td>\n",
              "      <td>25051</td>\n",
              "      <td>39</td>\n",
              "      <td>1</td>\n",
              "      <td>4</td>\n",
              "      <td>NaN</td>\n",
              "      <td>NaN</td>\n",
              "      <td>NaN</td>\n",
              "      <td>NaN</td>\n",
              "      <td>NaN</td>\n",
              "      <td>NaN</td>\n",
              "    </tr>\n",
              "    <tr>\n",
              "      <th>4</th>\n",
              "      <td>http://farm6.staticflickr.com/5555/14220355443...</td>\n",
              "      <td>0.101562</td>\n",
              "      <td>0.318359</td>\n",
              "      <td>0.156662</td>\n",
              "      <td>0.532943</td>\n",
              "      <td>http://farm4.staticflickr.com/3903/15033634365...</td>\n",
              "      <td>0.352539</td>\n",
              "      <td>0.468750</td>\n",
              "      <td>0.351391</td>\n",
              "      <td>0.553441</td>\n",
              "      <td>http://farm4.staticflickr.com/3674/9280612097_...</td>\n",
              "      <td>0.359307</td>\n",
              "      <td>0.562771</td>\n",
              "      <td>0.514648</td>\n",
              "      <td>0.673828</td>\n",
              "      <td>THREE_CLASS_TRIPLET</td>\n",
              "      <td>147101</td>\n",
              "      <td>2</td>\n",
              "      <td>221901</td>\n",
              "      <td>2</td>\n",
              "      <td>269701</td>\n",
              "      <td>1</td>\n",
              "      <td>321501</td>\n",
              "      <td>2</td>\n",
              "      <td>41207</td>\n",
              "      <td>2</td>\n",
              "      <td>48316</td>\n",
              "      <td>2</td>\n",
              "      <td>NaN</td>\n",
              "      <td>15297</td>\n",
              "      <td>187</td>\n",
              "      <td>1</td>\n",
              "      <td>5</td>\n",
              "      <td>NaN</td>\n",
              "      <td>NaN</td>\n",
              "      <td>NaN</td>\n",
              "      <td>NaN</td>\n",
              "      <td>NaN</td>\n",
              "      <td>NaN</td>\n",
              "    </tr>\n",
              "  </tbody>\n",
              "</table>\n",
              "</div>"
            ],
            "text/plain": [
              "                                               link1  ...  Unnamed: 38\n",
              "0  http://farm5.staticflickr.com/4108/5185055338_...  ...          NaN\n",
              "1  http://farm4.staticflickr.com/3338/3571087393_...  ...          NaN\n",
              "2  http://farm6.staticflickr.com/5087/5289788172_...  ...          NaN\n",
              "3  http://farm8.staticflickr.com/7001/13409767313...  ...          NaN\n",
              "4  http://farm6.staticflickr.com/5555/14220355443...  ...          NaN\n",
              "\n",
              "[5 rows x 39 columns]"
            ]
          },
          "metadata": {
            "tags": []
          },
          "execution_count": 27
        }
      ]
    },
    {
      "cell_type": "code",
      "metadata": {
        "id": "fGwXQsnoUpvo",
        "colab_type": "code",
        "outputId": "49f979ea-8ae0-4304-b8d0-a158ec682d1a",
        "colab": {
          "base_uri": "https://localhost:8080/",
          "height": 34
        }
      },
      "source": [
        "data[data['col33'] == 5].values.tolist()[0][21]"
      ],
      "execution_count": 28,
      "outputs": [
        {
          "output_type": "execute_result",
          "data": {
            "text/plain": [
              "1"
            ]
          },
          "metadata": {
            "tags": []
          },
          "execution_count": 28
        }
      ]
    },
    {
      "cell_type": "code",
      "metadata": {
        "id": "uzDXHKYYTJsN",
        "colab_type": "code",
        "colab": {}
      },
      "source": [
        "classes = []\n",
        "for cl in data['class_type'].values.tolist():\n",
        "  if cl == 'ONE_CLASS_TRIPLET':\n",
        "    classes.append(1)\n",
        "  elif cl == 'TWO_CLASS_TRIPLET':\n",
        "    classes.append(2)\n",
        "  elif cl == 'THREE_CLASS_TRIPLET':\n",
        "    classes.append(3)"
      ],
      "execution_count": 0,
      "outputs": []
    },
    {
      "cell_type": "code",
      "metadata": {
        "id": "Pen168ooSj7o",
        "colab_type": "code",
        "colab": {}
      },
      "source": [
        "class_type = tf.convert_to_tensor(classes, dtype=tf.float32)"
      ],
      "execution_count": 0,
      "outputs": []
    },
    {
      "cell_type": "code",
      "metadata": {
        "id": "eAfrvf2PdnPD",
        "colab_type": "code",
        "colab": {}
      },
      "source": [
        "col33 = tf.convert_to_tensor(data['col33'].values.tolist())\n",
        "labels = tf.convert_to_tensor(list(zip(data['col18'].values.tolist(),data['col20'].values.tolist(),data['col22'].values.tolist(),data['col24'].values.tolist(),data['col26'].values.tolist(),data['col28'].values.tolist())))"
      ],
      "execution_count": 0,
      "outputs": []
    },
    {
      "cell_type": "code",
      "metadata": {
        "id": "dv0O3btbQnin",
        "colab_type": "code",
        "colab": {}
      },
      "source": [
        "def get_label(file_paths):\n",
        "  a, b, c = file_paths\n",
        "  index = tf.strings.to_number(tf.strings.split(tf.strings.split(a, sep=\"/\")[-1], sep=\".\")[0], out_type=tf.int32)\n",
        "  row = labels[col33 == index][0]\n",
        "  ones = tf.cast(tf.equal(row, 1), tf.int8) * 1\n",
        "  twos = tf.cast(tf.equal(row, 2), tf.int8) * 1\n",
        "  threes = tf.cast(tf.equal(row, 3), tf.int8) * 1\n",
        "  cl = class_type[index-1]\n",
        "  label = tf.stack([tf.reduce_sum(ones)/6, tf.reduce_sum(twos)/6, tf.reduce_sum(threes)/6, cl], 0)\n",
        "  return label"
      ],
      "execution_count": 0,
      "outputs": []
    },
    {
      "cell_type": "code",
      "metadata": {
        "id": "2Z3pdX7UYSXy",
        "colab_type": "code",
        "outputId": "f9b8ac81-955b-44ff-c9fb-851f2f8816ec",
        "colab": {
          "base_uri": "https://localhost:8080/",
          "height": 102
        }
      },
      "source": [
        "for f in train_files_ds.take(5):\n",
        "  print(get_label(f))"
      ],
      "execution_count": 33,
      "outputs": [
        {
          "output_type": "stream",
          "text": [
            "tf.Tensor([0.16666667 0.6666667  0.16666667 2.        ], shape=(4,), dtype=float32)\n",
            "tf.Tensor([0. 1. 0. 3.], shape=(4,), dtype=float32)\n",
            "tf.Tensor([0.33333334 0.5        0.16666667 3.        ], shape=(4,), dtype=float32)\n",
            "tf.Tensor([0. 0. 1. 3.], shape=(4,), dtype=float32)\n",
            "tf.Tensor([0. 0. 1. 1.], shape=(4,), dtype=float32)\n"
          ],
          "name": "stdout"
        }
      ]
    },
    {
      "cell_type": "code",
      "metadata": {
        "id": "YXnp4CBScIiZ",
        "colab_type": "code",
        "colab": {}
      },
      "source": [
        "IMG_WIDTH = 96\n",
        "IMG_HEIGHT = 96\n",
        "BATCH_SIZE = 128"
      ],
      "execution_count": 0,
      "outputs": []
    },
    {
      "cell_type": "code",
      "metadata": {
        "id": "i2k_5v7lb214",
        "colab_type": "code",
        "colab": {}
      },
      "source": [
        "def decode_img(img):\n",
        "  # convert the compressed string to a 3D uint8 tensor\n",
        "  img = tf.image.decode_jpeg(img, channels=3)\n",
        "  # Use `convert_image_dtype` to convert to floats in the [0,1] range.\n",
        "  img = tf.image.convert_image_dtype(img, tf.float32)\n",
        "  # resize the image to the desired size.\n",
        "  return tf.image.resize(img, [IMG_WIDTH, IMG_HEIGHT])"
      ],
      "execution_count": 0,
      "outputs": []
    },
    {
      "cell_type": "code",
      "metadata": {
        "id": "aFFl69Axz1oX",
        "colab_type": "code",
        "colab": {}
      },
      "source": [
        "AUTOTUNE = tf.data.experimental.AUTOTUNE"
      ],
      "execution_count": 0,
      "outputs": []
    },
    {
      "cell_type": "code",
      "metadata": {
        "id": "ZRkUDoFab2vO",
        "colab_type": "code",
        "colab": {}
      },
      "source": [
        "def process_path(a, b, c):\n",
        "  label = tf.map_fn(get_label, (a,b,c), parallel_iterations=32, dtype=tf.float32)\n",
        "  # load the raw data from the file as a string\n",
        "  img1 = tf.map_fn(tf.io.read_file, a, parallel_iterations=32)\n",
        "  img2 = tf.map_fn(tf.io.read_file, b, parallel_iterations=32)\n",
        "  img3 = tf.map_fn(tf.io.read_file, c, parallel_iterations=32)\n",
        "  img1 = tf.map_fn(decode_img, img1, parallel_iterations=32, dtype=tf.float32)\n",
        "  img2 = tf.map_fn(decode_img, img2, parallel_iterations=32, dtype=tf.float32)\n",
        "  img3 = tf.map_fn(decode_img, img3, parallel_iterations=32, dtype=tf.float32)\n",
        "  imgs = tf.transpose(tf.convert_to_tensor([img1, img2, img3]), perm=[1, 0, 2, 3, 4])\n",
        "  return imgs, label"
      ],
      "execution_count": 0,
      "outputs": []
    },
    {
      "cell_type": "code",
      "metadata": {
        "id": "2ne-qS8gy7WG",
        "colab_type": "code",
        "colab": {}
      },
      "source": [
        "train_files_batched_ds = train_files_ds.batch(BATCH_SIZE)\n",
        "valid_files_batched_ds = valid_files_ds.batch(BATCH_SIZE)"
      ],
      "execution_count": 0,
      "outputs": []
    },
    {
      "cell_type": "code",
      "metadata": {
        "id": "A4bYQCkHzWnY",
        "colab_type": "code",
        "colab": {}
      },
      "source": [
        "train_images_batched_ds = train_files_batched_ds.interleave(lambda a,b,c: tf.data.Dataset.from_tensors(process_path(a,b,c)) , cycle_length=6, block_length=1, num_parallel_calls=AUTOTUNE)\n",
        "valid_images_batched_ds = valid_files_batched_ds.interleave(lambda a,b,c: tf.data.Dataset.from_tensors(process_path(a,b,c)) , cycle_length=6, block_length=1, num_parallel_calls=AUTOTUNE)"
      ],
      "execution_count": 0,
      "outputs": []
    },
    {
      "cell_type": "code",
      "metadata": {
        "id": "1589h7OT4mXg",
        "colab_type": "code",
        "colab": {}
      },
      "source": [
        "# train_images_ds = train_files_ds.map(process_path, num_parallel_calls=AUTOTUNE)\n",
        "# valid_images_ds = valid_files_ds.map(process_path, num_parallel_calls=AUTOTUNE)"
      ],
      "execution_count": 0,
      "outputs": []
    },
    {
      "cell_type": "code",
      "metadata": {
        "id": "TRr8qSdyb2l1",
        "colab_type": "code",
        "colab": {}
      },
      "source": [
        "# train_images_batched_ds = train_files_batched_ds.map(process_path, num_parallel_calls=AUTOTUNE)\n",
        "# valid_images_batched_ds = valid_files_batched_ds.map(process_path, num_parallel_calls=AUTOTUNE)"
      ],
      "execution_count": 0,
      "outputs": []
    },
    {
      "cell_type": "code",
      "metadata": {
        "id": "qjW6MiLOm4XL",
        "colab_type": "code",
        "outputId": "02c942d0-3d6b-4da2-8b8f-1687af5d8501",
        "colab": {
          "base_uri": "https://localhost:8080/",
          "height": 357
        }
      },
      "source": [
        "i = 1\n",
        "for image, label in train_images_batched_ds.take(5):\n",
        "  print(\"Triplet: \", i)\n",
        "  print(\"Triplet shape: \", image.shape)\n",
        "  print(\"Label shape: \", label.shape)\n",
        "  print(\" \")\n",
        "  i += 1"
      ],
      "execution_count": 40,
      "outputs": [
        {
          "output_type": "stream",
          "text": [
            "Triplet:  1\n",
            "Triplet shape:  (128, 3, 96, 96, 3)\n",
            "Label shape:  (128, 4)\n",
            " \n",
            "Triplet:  2\n",
            "Triplet shape:  (128, 3, 96, 96, 3)\n",
            "Label shape:  (128, 4)\n",
            " \n",
            "Triplet:  3\n",
            "Triplet shape:  (128, 3, 96, 96, 3)\n",
            "Label shape:  (128, 4)\n",
            " \n",
            "Triplet:  4\n",
            "Triplet shape:  (128, 3, 96, 96, 3)\n",
            "Label shape:  (128, 4)\n",
            " \n",
            "Triplet:  5\n",
            "Triplet shape:  (128, 3, 96, 96, 3)\n",
            "Label shape:  (128, 4)\n",
            " \n"
          ],
          "name": "stdout"
        }
      ]
    },
    {
      "cell_type": "code",
      "metadata": {
        "id": "KB1EpRnxm4Rj",
        "colab_type": "code",
        "colab": {}
      },
      "source": [
        "def prepare_for_training(ds, cache=\"./fec.tfcache\"):\n",
        "  # This is a small dataset, only load it once, and keep it in memory.\n",
        "  # use `.cache(filename)` to cache preprocessing work for datasets that don't\n",
        "  # fit in memory.\n",
        "    \n",
        "  if cache:\n",
        "    if isinstance(cache, str):\n",
        "      ds = ds.cache(cache)\n",
        "    else:\n",
        "      ds = ds.cache()\n",
        "\n",
        "  # Repeat forever\n",
        "  ds = ds.repeat()\n",
        "\n",
        "  # `prefetch` lets the dataset fetch batches in the background while the model\n",
        "  # is training.\n",
        "  ds = ds.prefetch(buffer_size=AUTOTUNE)\n",
        "\n",
        "  return ds"
      ],
      "execution_count": 0,
      "outputs": []
    },
    {
      "cell_type": "code",
      "metadata": {
        "id": "n4pyO0lwm4Mg",
        "colab_type": "code",
        "colab": {}
      },
      "source": [
        "train_ds = prepare_for_training(train_images_batched_ds, cache=False)\n",
        "\n",
        "valid_ds = prepare_for_training(valid_images_batched_ds, cache=False)\n"
      ],
      "execution_count": 0,
      "outputs": []
    },
    {
      "cell_type": "code",
      "metadata": {
        "id": "sHUBlEZgd6-h",
        "colab_type": "code",
        "colab": {}
      },
      "source": [
        "def show(image):\n",
        "  plt.figure()\n",
        "  plt.imshow(image)\n",
        "  plt.axis('off')"
      ],
      "execution_count": 0,
      "outputs": []
    },
    {
      "cell_type": "code",
      "metadata": {
        "id": "lFT4HCmaXtNl",
        "colab_type": "code",
        "outputId": "6ea18266-2898-43d8-8fb6-5a2f39f25dac",
        "colab": {
          "base_uri": "https://localhost:8080/",
          "height": 727
        }
      },
      "source": [
        "for imgs, labels in valid_ds.take(1):\n",
        "  a, b, c = imgs[5]\n",
        "  tf.print(labels[5])\n",
        "  show(a)\n",
        "  show(b)\n",
        "  show(c)"
      ],
      "execution_count": 44,
      "outputs": [
        {
          "output_type": "stream",
          "text": [
            "[0.166666672 0.333333343 0.5 3]\n"
          ],
          "name": "stdout"
        },
        {
          "output_type": "display_data",
          "data": {
            "image/png": "[encoded data removed]",
            "text/plain": [
              "<Figure size 432x288 with 1 Axes>"
            ]
          },
          "metadata": {
            "tags": []
          }
        },
        {
          "output_type": "display_data",
          "data": {
            "image/png": "[encoded data removed]",
            "text/plain": [
              "<Figure size 432x288 with 1 Axes>"
            ]
          },
          "metadata": {
            "tags": []
          }
        },
        {
          "output_type": "display_data",
          "data": {
            "image/png": "[encoded data removed]",
            "text/plain": [
              "<Figure size 432x288 with 1 Axes>"
            ]
          },
          "metadata": {
            "tags": []
          }
        }
      ]
    },
    {
      "cell_type": "code",
      "metadata": {
        "id": "nBZw6mVzf2zz",
        "colab_type": "code",
        "colab": {}
      },
      "source": [
        "# for imgs, labels in train_ds.take(int(TRAIN_SIZE / BATCH_SIZE)):\n",
        "#   pass"
      ],
      "execution_count": 0,
      "outputs": []
    },
    {
      "cell_type": "code",
      "metadata": {
        "id": "qst04D6s6Kng",
        "colab_type": "code",
        "colab": {}
      },
      "source": [
        "# for imgs, labels in valid_ds.take(int(VALIDATION_SIZE / BATCH_SIZE)):\n",
        "#   pass"
      ],
      "execution_count": 0,
      "outputs": []
    },
    {
      "cell_type": "code",
      "metadata": {
        "id": "KEmsP4l9GJYX",
        "colab_type": "code",
        "colab": {}
      },
      "source": [
        "from tensorflow.keras.models import Sequential\n",
        "from tensorflow.keras.layers import Conv2D, ZeroPadding2D, Activation, Input, concatenate\n",
        "from tensorflow.keras.models import Model\n",
        "from tensorflow.keras.layers import BatchNormalization\n",
        "from tensorflow.keras.layers import MaxPooling2D, AveragePooling2D\n",
        "from tensorflow.keras.layers import Concatenate\n",
        "from tensorflow.keras.layers import Lambda, Flatten, Dense\n",
        "from tensorflow.keras.layers import Layer\n",
        "import cv2\n",
        "import os\n",
        "import numpy as np\n",
        "from numpy import genfromtxt\n",
        "import pandas as pd\n",
        "import tensorflow.keras as K\n",
        "\n",
        "def LRN2D(x):\n",
        "  return tf.nn.lrn(x, alpha=1e-4, beta=0.75)\n",
        "\n",
        "def conv2d_bn(\n",
        "  x,\n",
        "  layer=None,\n",
        "  cv1_out=None,\n",
        "  cv1_filter=(1, 1),\n",
        "  cv1_strides=(1, 1),\n",
        "  cv2_out=None,\n",
        "  cv2_filter=(3, 3),\n",
        "  cv2_strides=(1, 1),\n",
        "  padding=None,\n",
        "):\n",
        "  num = '' if cv2_out == None else '1'\n",
        "  tensor = Conv2D(cv1_out, cv1_filter, strides=cv1_strides, name=layer+'_conv'+num)(x)\n",
        "  tensor = BatchNormalization(axis=3, epsilon=0.00001, name=layer+'_bn'+num)(tensor)\n",
        "  tensor = Activation('relu')(tensor)\n",
        "  if padding == None:\n",
        "    return tensor\n",
        "  tensor = ZeroPadding2D(padding=padding)(tensor)\n",
        "  if cv2_out == None:\n",
        "    return tensor\n",
        "  tensor = Conv2D(cv2_out, cv2_filter, strides=cv2_strides, name=layer+'_conv'+'2')(tensor)\n",
        "  tensor = BatchNormalization(axis=3, epsilon=0.00001, name=layer+'_bn'+'2')(tensor)\n",
        "  tensor = Activation('relu')(tensor)\n",
        "  return tensor\n",
        "\n",
        "def facenet():\n",
        "    myInput = Input(shape=(96, 96, 3))\n",
        "\n",
        "    x = ZeroPadding2D(padding=(3, 3), input_shape=(96, 96, 3))(myInput)\n",
        "    x = Conv2D(64, (7, 7), strides=(2, 2), name='conv1')(x)\n",
        "    x = BatchNormalization(axis=3, epsilon=0.00001, name='bn1')(x)\n",
        "    x = Activation('relu')(x)\n",
        "    x = ZeroPadding2D(padding=(1, 1))(x)\n",
        "    x = MaxPooling2D(pool_size=3, strides=2)(x)\n",
        "    x = Lambda(LRN2D, name='lrn_1')(x)\n",
        "    x = Conv2D(64, (1, 1), name='conv2')(x)\n",
        "    x = BatchNormalization(axis=3, epsilon=0.00001, name='bn2')(x)\n",
        "    x = Activation('relu')(x)\n",
        "    x = ZeroPadding2D(padding=(1, 1))(x)\n",
        "    x = Conv2D(192, (3, 3), name='conv3')(x)\n",
        "    x = BatchNormalization(axis=3, epsilon=0.00001, name='bn3')(x)\n",
        "    x = Activation('relu')(x)\n",
        "    x = Lambda(LRN2D, name='lrn_2')(x)\n",
        "    x = ZeroPadding2D(padding=(1, 1))(x)\n",
        "    x = MaxPooling2D(pool_size=3, strides=2)(x)\n",
        "\n",
        "    # Inception3a\n",
        "    inception_3a_3x3 = Conv2D(96, (1, 1), name='inception_3a_3x3_conv1')(x)\n",
        "    inception_3a_3x3 = BatchNormalization(axis=3, epsilon=0.00001, name='inception_3a_3x3_bn1')(inception_3a_3x3)\n",
        "    inception_3a_3x3 = Activation('relu')(inception_3a_3x3)\n",
        "    inception_3a_3x3 = ZeroPadding2D(padding=(1, 1))(inception_3a_3x3)\n",
        "    inception_3a_3x3 = Conv2D(128, (3, 3), name='inception_3a_3x3_conv2')(inception_3a_3x3)\n",
        "    inception_3a_3x3 = BatchNormalization(axis=3, epsilon=0.00001, name='inception_3a_3x3_bn2')(inception_3a_3x3)\n",
        "    inception_3a_3x3 = Activation('relu')(inception_3a_3x3)\n",
        "\n",
        "    inception_3a_5x5 = Conv2D(16, (1, 1), name='inception_3a_5x5_conv1')(x)\n",
        "    inception_3a_5x5 = BatchNormalization(axis=3, epsilon=0.00001, name='inception_3a_5x5_bn1')(inception_3a_5x5)\n",
        "    inception_3a_5x5 = Activation('relu')(inception_3a_5x5)\n",
        "    inception_3a_5x5 = ZeroPadding2D(padding=(2, 2))(inception_3a_5x5)\n",
        "    inception_3a_5x5 = Conv2D(32, (5, 5), name='inception_3a_5x5_conv2')(inception_3a_5x5)\n",
        "    inception_3a_5x5 = BatchNormalization(axis=3, epsilon=0.00001, name='inception_3a_5x5_bn2')(inception_3a_5x5)\n",
        "    inception_3a_5x5 = Activation('relu')(inception_3a_5x5)\n",
        "\n",
        "    inception_3a_pool = MaxPooling2D(pool_size=3, strides=2)(x)\n",
        "    inception_3a_pool = Conv2D(32, (1, 1), name='inception_3a_pool_conv')(inception_3a_pool)\n",
        "    inception_3a_pool = BatchNormalization(axis=3, epsilon=0.00001, name='inception_3a_pool_bn')(inception_3a_pool)\n",
        "    inception_3a_pool = Activation('relu')(inception_3a_pool)\n",
        "    inception_3a_pool = ZeroPadding2D(padding=((3, 4), (3, 4)))(inception_3a_pool)\n",
        "\n",
        "    inception_3a_1x1 = Conv2D(64, (1, 1), name='inception_3a_1x1_conv')(x)\n",
        "    inception_3a_1x1 = BatchNormalization(axis=3, epsilon=0.00001, name='inception_3a_1x1_bn')(inception_3a_1x1)\n",
        "    inception_3a_1x1 = Activation('relu')(inception_3a_1x1)\n",
        "\n",
        "    inception_3a = concatenate([inception_3a_3x3, inception_3a_5x5, inception_3a_pool, inception_3a_1x1], axis=3)\n",
        "\n",
        "    # Inception3b\n",
        "    inception_3b_3x3 = Conv2D(96, (1, 1), name='inception_3b_3x3_conv1')(inception_3a)\n",
        "    inception_3b_3x3 = BatchNormalization(axis=3, epsilon=0.00001, name='inception_3b_3x3_bn1')(inception_3b_3x3)\n",
        "    inception_3b_3x3 = Activation('relu')(inception_3b_3x3)\n",
        "    inception_3b_3x3 = ZeroPadding2D(padding=(1, 1))(inception_3b_3x3)\n",
        "    inception_3b_3x3 = Conv2D(128, (3, 3), name='inception_3b_3x3_conv2')(inception_3b_3x3)\n",
        "    inception_3b_3x3 = BatchNormalization(axis=3, epsilon=0.00001, name='inception_3b_3x3_bn2')(inception_3b_3x3)\n",
        "    inception_3b_3x3 = Activation('relu')(inception_3b_3x3)\n",
        "\n",
        "    inception_3b_5x5 = Conv2D(32, (1, 1), name='inception_3b_5x5_conv1')(inception_3a)\n",
        "    inception_3b_5x5 = BatchNormalization(axis=3, epsilon=0.00001, name='inception_3b_5x5_bn1')(inception_3b_5x5)\n",
        "    inception_3b_5x5 = Activation('relu')(inception_3b_5x5)\n",
        "    inception_3b_5x5 = ZeroPadding2D(padding=(2, 2))(inception_3b_5x5)\n",
        "    inception_3b_5x5 = Conv2D(64, (5, 5), name='inception_3b_5x5_conv2')(inception_3b_5x5)\n",
        "    inception_3b_5x5 = BatchNormalization(axis=3, epsilon=0.00001, name='inception_3b_5x5_bn2')(inception_3b_5x5)\n",
        "    inception_3b_5x5 = Activation('relu')(inception_3b_5x5)\n",
        "\n",
        "    inception_3b_pool = Lambda(lambda x: x**2, name='power2_3b')(inception_3a)\n",
        "    inception_3b_pool = AveragePooling2D(pool_size=(3, 3), strides=(3, 3))(inception_3b_pool)\n",
        "    inception_3b_pool = Lambda(lambda x: x*9, name='mult9_3b')(inception_3b_pool)\n",
        "    inception_3b_pool = Lambda(lambda x: tf.math.sqrt(x), name='sqrt_3b')(inception_3b_pool)\n",
        "    inception_3b_pool = Conv2D(64, (1, 1), name='inception_3b_pool_conv')(inception_3b_pool)\n",
        "    inception_3b_pool = BatchNormalization(axis=3, epsilon=0.00001, name='inception_3b_pool_bn')(inception_3b_pool)\n",
        "    inception_3b_pool = Activation('relu')(inception_3b_pool)\n",
        "    inception_3b_pool = ZeroPadding2D(padding=(4, 4))(inception_3b_pool)\n",
        "\n",
        "    inception_3b_1x1 = Conv2D(64, (1, 1), name='inception_3b_1x1_conv')(inception_3a)\n",
        "    inception_3b_1x1 = BatchNormalization(axis=3, epsilon=0.00001, name='inception_3b_1x1_bn')(inception_3b_1x1)\n",
        "    inception_3b_1x1 = Activation('relu')(inception_3b_1x1)\n",
        "\n",
        "    inception_3b = concatenate([inception_3b_3x3, inception_3b_5x5, inception_3b_pool, inception_3b_1x1], axis=3)\n",
        "\n",
        "    # Inception3c\n",
        "    inception_3c_3x3 = conv2d_bn(inception_3b,\n",
        "                                    layer='inception_3c_3x3',\n",
        "                                    cv1_out=128,\n",
        "                                    cv1_filter=(1, 1),\n",
        "                                    cv2_out=256,\n",
        "                                    cv2_filter=(3, 3),\n",
        "                                    cv2_strides=(2, 2),\n",
        "                                    padding=(1, 1))\n",
        "\n",
        "    inception_3c_5x5 = conv2d_bn(inception_3b,\n",
        "                                    layer='inception_3c_5x5',\n",
        "                                    cv1_out=32,\n",
        "                                    cv1_filter=(1, 1),\n",
        "                                    cv2_out=64,\n",
        "                                    cv2_filter=(5, 5),\n",
        "                                    cv2_strides=(2, 2),\n",
        "                                    padding=(2, 2))\n",
        "\n",
        "    inception_3c_pool = MaxPooling2D(pool_size=3, strides=2)(inception_3b)\n",
        "    inception_3c_pool = ZeroPadding2D(padding=((0, 1), (0, 1)))(inception_3c_pool)\n",
        "\n",
        "    inception_3c = concatenate([inception_3c_3x3, inception_3c_5x5, inception_3c_pool], axis=3)\n",
        "\n",
        "    #inception 4a\n",
        "    inception_4a_3x3 = conv2d_bn(inception_3c,\n",
        "                                    layer='inception_4a_3x3',\n",
        "                                    cv1_out=96,\n",
        "                                    cv1_filter=(1, 1),\n",
        "                                    cv2_out=192,\n",
        "                                    cv2_filter=(3, 3),\n",
        "                                    cv2_strides=(1, 1),\n",
        "                                    padding=(1, 1))\n",
        "    inception_4a_5x5 = conv2d_bn(inception_3c,\n",
        "                                    layer='inception_4a_5x5',\n",
        "                                    cv1_out=32,\n",
        "                                    cv1_filter=(1, 1),\n",
        "                                    cv2_out=64,\n",
        "                                    cv2_filter=(5, 5),\n",
        "                                    cv2_strides=(1, 1),\n",
        "                                    padding=(2, 2))\n",
        "\n",
        "    inception_4a_pool = Lambda(lambda x: x**2, name='power2_4a')(inception_3c)\n",
        "    inception_4a_pool = AveragePooling2D(pool_size=(3, 3), strides=(3, 3))(inception_4a_pool)\n",
        "    inception_4a_pool = Lambda(lambda x: x*9, name='mult9_4a')(inception_4a_pool)\n",
        "    inception_4a_pool = Lambda(lambda x: tf.math.sqrt(x), name='sqrt_4a')(inception_4a_pool)\n",
        "    inception_4a_pool = conv2d_bn(inception_4a_pool,\n",
        "                                    layer='inception_4a_pool',\n",
        "                                    cv1_out=128,\n",
        "                                    cv1_filter=(1, 1),\n",
        "                                    padding=(2, 2))\n",
        "    inception_4a_1x1 = conv2d_bn(inception_3c,\n",
        "                                    layer='inception_4a_1x1',\n",
        "                                    cv1_out=256,\n",
        "                                    cv1_filter=(1, 1))\n",
        "    inception_4a = concatenate([inception_4a_3x3, inception_4a_5x5, inception_4a_pool, inception_4a_1x1], axis=3)\n",
        "\n",
        "    #inception4e\n",
        "    inception_4e_3x3 = conv2d_bn(inception_4a,\n",
        "                                    layer='inception_4e_3x3',\n",
        "                                    cv1_out=160,\n",
        "                                    cv1_filter=(1, 1),\n",
        "                                    cv2_out=256,\n",
        "                                    cv2_filter=(3, 3),\n",
        "                                    cv2_strides=(2, 2),\n",
        "                                    padding=(1, 1))\n",
        "    inception_4e_5x5 = conv2d_bn(inception_4a,\n",
        "                                    layer='inception_4e_5x5',\n",
        "                                    cv1_out=64,\n",
        "                                    cv1_filter=(1, 1),\n",
        "                                    cv2_out=128,\n",
        "                                    cv2_filter=(5, 5),\n",
        "                                    cv2_strides=(2, 2),\n",
        "                                    padding=(2, 2))\n",
        "    inception_4e_pool = MaxPooling2D(pool_size=3, strides=2)(inception_4a)\n",
        "    inception_4e_pool = ZeroPadding2D(padding=((0, 1), (0, 1)))(inception_4e_pool)\n",
        "\n",
        "    inception_4e = concatenate([inception_4e_3x3, inception_4e_5x5, inception_4e_pool], axis=3)\n",
        "\n",
        "    #inception5a\n",
        "    inception_5a_3x3 = conv2d_bn(inception_4e,\n",
        "                                    layer='inception_5a_3x3',\n",
        "                                    cv1_out=96,\n",
        "                                    cv1_filter=(1, 1),\n",
        "                                    cv2_out=384,\n",
        "                                    cv2_filter=(3, 3),\n",
        "                                    cv2_strides=(1, 1),\n",
        "                                    padding=(1, 1))\n",
        "\n",
        "    inception_5a_pool = Lambda(lambda x: x**2, name='power2_5a')(inception_4e)\n",
        "    inception_5a_pool = AveragePooling2D(pool_size=(3, 3), strides=(3, 3))(inception_5a_pool)\n",
        "    inception_5a_pool = Lambda(lambda x: x*9, name='mult9_5a')(inception_5a_pool)\n",
        "    inception_5a_pool = Lambda(lambda x: tf.math.sqrt(x), name='sqrt_5a')(inception_5a_pool)\n",
        "    inception_5a_pool = conv2d_bn(inception_5a_pool,\n",
        "                                    layer='inception_5a_pool',\n",
        "                                    cv1_out=96,\n",
        "                                    cv1_filter=(1, 1),\n",
        "                                    padding=(1, 1))\n",
        "    inception_5a_1x1 = conv2d_bn(inception_4e,\n",
        "                                    layer='inception_5a_1x1',\n",
        "                                    cv1_out=256,\n",
        "                                    cv1_filter=(1, 1))\n",
        "\n",
        "    inception_5a = concatenate([inception_5a_3x3, inception_5a_pool, inception_5a_1x1], axis=3)\n",
        "\n",
        "    #inception_5b\n",
        "    inception_5b_3x3 = conv2d_bn(inception_5a,\n",
        "                                    layer='inception_5b_3x3',\n",
        "                                    cv1_out=96,\n",
        "                                    cv1_filter=(1, 1),\n",
        "                                    cv2_out=384,\n",
        "                                    cv2_filter=(3, 3),\n",
        "                                    cv2_strides=(1, 1),\n",
        "                                    padding=(1, 1))\n",
        "    inception_5b_pool = MaxPooling2D(pool_size=3, strides=2)(inception_5a)\n",
        "    inception_5b_pool = conv2d_bn(inception_5b_pool,\n",
        "                                    layer='inception_5b_pool',\n",
        "                                    cv1_out=96,\n",
        "                                    cv1_filter=(1, 1))\n",
        "    inception_5b_pool = ZeroPadding2D(padding=(1, 1))(inception_5b_pool)\n",
        "\n",
        "    inception_5b_1x1 = conv2d_bn(inception_5a,\n",
        "                                    layer='inception_5b_1x1',\n",
        "                                    cv1_out=256,\n",
        "                                    cv1_filter=(1, 1))\n",
        "    inception_5b = concatenate([inception_5b_3x3, inception_5b_pool, inception_5b_1x1], axis=3)\n",
        "\n",
        "    av_pool = AveragePooling2D(pool_size=(3, 3), strides=(1, 1))(inception_5b)\n",
        "    reshape_layer = Flatten()(av_pool)\n",
        "    dense_layer = Dense(128, name='dense_layer')(reshape_layer)\n",
        "    norm_layer = Lambda(lambda  x: tf.math.l2_normalize(x, axis=1), name='norm_layer')(dense_layer)\n",
        "\n",
        "    # Final Model\n",
        "    model = Model(inputs=[myInput], outputs=norm_layer)\n",
        "    return model"
      ],
      "execution_count": 0,
      "outputs": []
    },
    {
      "cell_type": "code",
      "metadata": {
        "id": "grjj4yKb_2az",
        "colab_type": "code",
        "colab": {}
      },
      "source": [
        "# faceNet = tf.keras.models.load_model('./drive/My Drive/Models/keras-facenet/model/facenet_keras.h5')\n",
        "# faceNet.summary()"
      ],
      "execution_count": 0,
      "outputs": []
    },
    {
      "cell_type": "code",
      "metadata": {
        "id": "_v6vsnvSIaOz",
        "colab_type": "code",
        "colab": {}
      },
      "source": [
        "nn4 = facenet()"
      ],
      "execution_count": 0,
      "outputs": []
    },
    {
      "cell_type": "code",
      "metadata": {
        "id": "8-5ZP_KZMHdZ",
        "colab_type": "code",
        "outputId": "ff4dd77f-28a9-4d73-8a93-a4d13dd63acb",
        "colab": {
          "base_uri": "https://localhost:8080/",
          "height": 1000
        }
      },
      "source": [
        "nn4.load_weights('./drive/My Drive/Models/nn4.small2.v1.h5')\n",
        "nn4.summary()"
      ],
      "execution_count": 50,
      "outputs": [
        {
          "output_type": "stream",
          "text": [
            "Model: \"model\"\n",
            "__________________________________________________________________________________________________\n",
            "Layer (type)                    Output Shape         Param #     Connected to                     \n",
            "==================================================================================================\n",
            "input_1 (InputLayer)            [(None, 96, 96, 3)]  0                                            \n",
            "__________________________________________________________________________________________________\n",
            "zero_padding2d (ZeroPadding2D)  (None, 102, 102, 3)  0           input_1[0][0]                    \n",
            "__________________________________________________________________________________________________\n",
            "conv1 (Conv2D)                  (None, 48, 48, 64)   9472        zero_padding2d[0][0]             \n",
            "__________________________________________________________________________________________________\n",
            "bn1 (BatchNormalization)        (None, 48, 48, 64)   256         conv1[0][0]                      \n",
            "__________________________________________________________________________________________________\n",
            "activation (Activation)         (None, 48, 48, 64)   0           bn1[0][0]                        \n",
            "__________________________________________________________________________________________________\n",
            "zero_padding2d_1 (ZeroPadding2D (None, 50, 50, 64)   0           activation[0][0]                 \n",
            "__________________________________________________________________________________________________\n",
            "max_pooling2d (MaxPooling2D)    (None, 24, 24, 64)   0           zero_padding2d_1[0][0]           \n",
            "__________________________________________________________________________________________________\n",
            "lrn_1 (Lambda)                  (None, 24, 24, 64)   0           max_pooling2d[0][0]              \n",
            "__________________________________________________________________________________________________\n",
            "conv2 (Conv2D)                  (None, 24, 24, 64)   4160        lrn_1[0][0]                      \n",
            "__________________________________________________________________________________________________\n",
            "bn2 (BatchNormalization)        (None, 24, 24, 64)   256         conv2[0][0]                      \n",
            "__________________________________________________________________________________________________\n",
            "activation_1 (Activation)       (None, 24, 24, 64)   0           bn2[0][0]                        \n",
            "__________________________________________________________________________________________________\n",
            "zero_padding2d_2 (ZeroPadding2D (None, 26, 26, 64)   0           activation_1[0][0]               \n",
            "__________________________________________________________________________________________________\n",
            "conv3 (Conv2D)                  (None, 24, 24, 192)  110784      zero_padding2d_2[0][0]           \n",
            "__________________________________________________________________________________________________\n",
            "bn3 (BatchNormalization)        (None, 24, 24, 192)  768         conv3[0][0]                      \n",
            "__________________________________________________________________________________________________\n",
            "activation_2 (Activation)       (None, 24, 24, 192)  0           bn3[0][0]                        \n",
            "__________________________________________________________________________________________________\n",
            "lrn_2 (Lambda)                  (None, 24, 24, 192)  0           activation_2[0][0]               \n",
            "__________________________________________________________________________________________________\n",
            "zero_padding2d_3 (ZeroPadding2D (None, 26, 26, 192)  0           lrn_2[0][0]                      \n",
            "__________________________________________________________________________________________________\n",
            "max_pooling2d_1 (MaxPooling2D)  (None, 12, 12, 192)  0           zero_padding2d_3[0][0]           \n",
            "__________________________________________________________________________________________________\n",
            "inception_3a_3x3_conv1 (Conv2D) (None, 12, 12, 96)   18528       max_pooling2d_1[0][0]            \n",
            "__________________________________________________________________________________________________\n",
            "inception_3a_5x5_conv1 (Conv2D) (None, 12, 12, 16)   3088        max_pooling2d_1[0][0]            \n",
            "__________________________________________________________________________________________________\n",
            "inception_3a_3x3_bn1 (BatchNorm (None, 12, 12, 96)   384         inception_3a_3x3_conv1[0][0]     \n",
            "__________________________________________________________________________________________________\n",
            "inception_3a_5x5_bn1 (BatchNorm (None, 12, 12, 16)   64          inception_3a_5x5_conv1[0][0]     \n",
            "__________________________________________________________________________________________________\n",
            "activation_3 (Activation)       (None, 12, 12, 96)   0           inception_3a_3x3_bn1[0][0]       \n",
            "__________________________________________________________________________________________________\n",
            "activation_5 (Activation)       (None, 12, 12, 16)   0           inception_3a_5x5_bn1[0][0]       \n",
            "__________________________________________________________________________________________________\n",
            "max_pooling2d_2 (MaxPooling2D)  (None, 5, 5, 192)    0           max_pooling2d_1[0][0]            \n",
            "__________________________________________________________________________________________________\n",
            "zero_padding2d_4 (ZeroPadding2D (None, 14, 14, 96)   0           activation_3[0][0]               \n",
            "__________________________________________________________________________________________________\n",
            "zero_padding2d_5 (ZeroPadding2D (None, 16, 16, 16)   0           activation_5[0][0]               \n",
            "__________________________________________________________________________________________________\n",
            "inception_3a_pool_conv (Conv2D) (None, 5, 5, 32)     6176        max_pooling2d_2[0][0]            \n",
            "__________________________________________________________________________________________________\n",
            "inception_3a_3x3_conv2 (Conv2D) (None, 12, 12, 128)  110720      zero_padding2d_4[0][0]           \n",
            "__________________________________________________________________________________________________\n",
            "inception_3a_5x5_conv2 (Conv2D) (None, 12, 12, 32)   12832       zero_padding2d_5[0][0]           \n",
            "__________________________________________________________________________________________________\n",
            "inception_3a_pool_bn (BatchNorm (None, 5, 5, 32)     128         inception_3a_pool_conv[0][0]     \n",
            "__________________________________________________________________________________________________\n",
            "inception_3a_1x1_conv (Conv2D)  (None, 12, 12, 64)   12352       max_pooling2d_1[0][0]            \n",
            "__________________________________________________________________________________________________\n",
            "inception_3a_3x3_bn2 (BatchNorm (None, 12, 12, 128)  512         inception_3a_3x3_conv2[0][0]     \n",
            "__________________________________________________________________________________________________\n",
            "inception_3a_5x5_bn2 (BatchNorm (None, 12, 12, 32)   128         inception_3a_5x5_conv2[0][0]     \n",
            "__________________________________________________________________________________________________\n",
            "activation_7 (Activation)       (None, 5, 5, 32)     0           inception_3a_pool_bn[0][0]       \n",
            "__________________________________________________________________________________________________\n",
            "inception_3a_1x1_bn (BatchNorma (None, 12, 12, 64)   256         inception_3a_1x1_conv[0][0]      \n",
            "__________________________________________________________________________________________________\n",
            "activation_4 (Activation)       (None, 12, 12, 128)  0           inception_3a_3x3_bn2[0][0]       \n",
            "__________________________________________________________________________________________________\n",
            "activation_6 (Activation)       (None, 12, 12, 32)   0           inception_3a_5x5_bn2[0][0]       \n",
            "__________________________________________________________________________________________________\n",
            "zero_padding2d_6 (ZeroPadding2D (None, 12, 12, 32)   0           activation_7[0][0]               \n",
            "__________________________________________________________________________________________________\n",
            "activation_8 (Activation)       (None, 12, 12, 64)   0           inception_3a_1x1_bn[0][0]        \n",
            "__________________________________________________________________________________________________\n",
            "concatenate (Concatenate)       (None, 12, 12, 256)  0           activation_4[0][0]               \n",
            "                                                                 activation_6[0][0]               \n",
            "                                                                 zero_padding2d_6[0][0]           \n",
            "                                                                 activation_8[0][0]               \n",
            "__________________________________________________________________________________________________\n",
            "power2_3b (Lambda)              (None, 12, 12, 256)  0           concatenate[0][0]                \n",
            "__________________________________________________________________________________________________\n",
            "inception_3b_3x3_conv1 (Conv2D) (None, 12, 12, 96)   24672       concatenate[0][0]                \n",
            "__________________________________________________________________________________________________\n",
            "inception_3b_5x5_conv1 (Conv2D) (None, 12, 12, 32)   8224        concatenate[0][0]                \n",
            "__________________________________________________________________________________________________\n",
            "average_pooling2d (AveragePooli (None, 4, 4, 256)    0           power2_3b[0][0]                  \n",
            "__________________________________________________________________________________________________\n",
            "inception_3b_3x3_bn1 (BatchNorm (None, 12, 12, 96)   384         inception_3b_3x3_conv1[0][0]     \n",
            "__________________________________________________________________________________________________\n",
            "inception_3b_5x5_bn1 (BatchNorm (None, 12, 12, 32)   128         inception_3b_5x5_conv1[0][0]     \n",
            "__________________________________________________________________________________________________\n",
            "mult9_3b (Lambda)               (None, 4, 4, 256)    0           average_pooling2d[0][0]          \n",
            "__________________________________________________________________________________________________\n",
            "activation_9 (Activation)       (None, 12, 12, 96)   0           inception_3b_3x3_bn1[0][0]       \n",
            "__________________________________________________________________________________________________\n",
            "activation_11 (Activation)      (None, 12, 12, 32)   0           inception_3b_5x5_bn1[0][0]       \n",
            "__________________________________________________________________________________________________\n",
            "sqrt_3b (Lambda)                (None, 4, 4, 256)    0           mult9_3b[0][0]                   \n",
            "__________________________________________________________________________________________________\n",
            "zero_padding2d_7 (ZeroPadding2D (None, 14, 14, 96)   0           activation_9[0][0]               \n",
            "__________________________________________________________________________________________________\n",
            "zero_padding2d_8 (ZeroPadding2D (None, 16, 16, 32)   0           activation_11[0][0]              \n",
            "__________________________________________________________________________________________________\n",
            "inception_3b_pool_conv (Conv2D) (None, 4, 4, 64)     16448       sqrt_3b[0][0]                    \n",
            "__________________________________________________________________________________________________\n",
            "inception_3b_3x3_conv2 (Conv2D) (None, 12, 12, 128)  110720      zero_padding2d_7[0][0]           \n",
            "__________________________________________________________________________________________________\n",
            "inception_3b_5x5_conv2 (Conv2D) (None, 12, 12, 64)   51264       zero_padding2d_8[0][0]           \n",
            "__________________________________________________________________________________________________\n",
            "inception_3b_pool_bn (BatchNorm (None, 4, 4, 64)     256         inception_3b_pool_conv[0][0]     \n",
            "__________________________________________________________________________________________________\n",
            "inception_3b_1x1_conv (Conv2D)  (None, 12, 12, 64)   16448       concatenate[0][0]                \n",
            "__________________________________________________________________________________________________\n",
            "inception_3b_3x3_bn2 (BatchNorm (None, 12, 12, 128)  512         inception_3b_3x3_conv2[0][0]     \n",
            "__________________________________________________________________________________________________\n",
            "inception_3b_5x5_bn2 (BatchNorm (None, 12, 12, 64)   256         inception_3b_5x5_conv2[0][0]     \n",
            "__________________________________________________________________________________________________\n",
            "activation_13 (Activation)      (None, 4, 4, 64)     0           inception_3b_pool_bn[0][0]       \n",
            "__________________________________________________________________________________________________\n",
            "inception_3b_1x1_bn (BatchNorma (None, 12, 12, 64)   256         inception_3b_1x1_conv[0][0]      \n",
            "__________________________________________________________________________________________________\n",
            "activation_10 (Activation)      (None, 12, 12, 128)  0           inception_3b_3x3_bn2[0][0]       \n",
            "__________________________________________________________________________________________________\n",
            "activation_12 (Activation)      (None, 12, 12, 64)   0           inception_3b_5x5_bn2[0][0]       \n",
            "__________________________________________________________________________________________________\n",
            "zero_padding2d_9 (ZeroPadding2D (None, 12, 12, 64)   0           activation_13[0][0]              \n",
            "__________________________________________________________________________________________________\n",
            "activation_14 (Activation)      (None, 12, 12, 64)   0           inception_3b_1x1_bn[0][0]        \n",
            "__________________________________________________________________________________________________\n",
            "concatenate_1 (Concatenate)     (None, 12, 12, 320)  0           activation_10[0][0]              \n",
            "                                                                 activation_12[0][0]              \n",
            "                                                                 zero_padding2d_9[0][0]           \n",
            "                                                                 activation_14[0][0]              \n",
            "__________________________________________________________________________________________________\n",
            "inception_3c_3x3_conv1 (Conv2D) (None, 12, 12, 128)  41088       concatenate_1[0][0]              \n",
            "__________________________________________________________________________________________________\n",
            "inception_3c_5x5_conv1 (Conv2D) (None, 12, 12, 32)   10272       concatenate_1[0][0]              \n",
            "__________________________________________________________________________________________________\n",
            "inception_3c_3x3_bn1 (BatchNorm (None, 12, 12, 128)  512         inception_3c_3x3_conv1[0][0]     \n",
            "__________________________________________________________________________________________________\n",
            "inception_3c_5x5_bn1 (BatchNorm (None, 12, 12, 32)   128         inception_3c_5x5_conv1[0][0]     \n",
            "__________________________________________________________________________________________________\n",
            "activation_15 (Activation)      (None, 12, 12, 128)  0           inception_3c_3x3_bn1[0][0]       \n",
            "__________________________________________________________________________________________________\n",
            "activation_17 (Activation)      (None, 12, 12, 32)   0           inception_3c_5x5_bn1[0][0]       \n",
            "__________________________________________________________________________________________________\n",
            "zero_padding2d_10 (ZeroPadding2 (None, 14, 14, 128)  0           activation_15[0][0]              \n",
            "__________________________________________________________________________________________________\n",
            "zero_padding2d_11 (ZeroPadding2 (None, 16, 16, 32)   0           activation_17[0][0]              \n",
            "__________________________________________________________________________________________________\n",
            "inception_3c_3x3_conv2 (Conv2D) (None, 6, 6, 256)    295168      zero_padding2d_10[0][0]          \n",
            "__________________________________________________________________________________________________\n",
            "inception_3c_5x5_conv2 (Conv2D) (None, 6, 6, 64)     51264       zero_padding2d_11[0][0]          \n",
            "__________________________________________________________________________________________________\n",
            "inception_3c_3x3_bn2 (BatchNorm (None, 6, 6, 256)    1024        inception_3c_3x3_conv2[0][0]     \n",
            "__________________________________________________________________________________________________\n",
            "inception_3c_5x5_bn2 (BatchNorm (None, 6, 6, 64)     256         inception_3c_5x5_conv2[0][0]     \n",
            "__________________________________________________________________________________________________\n",
            "max_pooling2d_3 (MaxPooling2D)  (None, 5, 5, 320)    0           concatenate_1[0][0]              \n",
            "__________________________________________________________________________________________________\n",
            "activation_16 (Activation)      (None, 6, 6, 256)    0           inception_3c_3x3_bn2[0][0]       \n",
            "__________________________________________________________________________________________________\n",
            "activation_18 (Activation)      (None, 6, 6, 64)     0           inception_3c_5x5_bn2[0][0]       \n",
            "__________________________________________________________________________________________________\n",
            "zero_padding2d_12 (ZeroPadding2 (None, 6, 6, 320)    0           max_pooling2d_3[0][0]            \n",
            "__________________________________________________________________________________________________\n",
            "concatenate_2 (Concatenate)     (None, 6, 6, 640)    0           activation_16[0][0]              \n",
            "                                                                 activation_18[0][0]              \n",
            "                                                                 zero_padding2d_12[0][0]          \n",
            "__________________________________________________________________________________________________\n",
            "power2_4a (Lambda)              (None, 6, 6, 640)    0           concatenate_2[0][0]              \n",
            "__________________________________________________________________________________________________\n",
            "inception_4a_3x3_conv1 (Conv2D) (None, 6, 6, 96)     61536       concatenate_2[0][0]              \n",
            "__________________________________________________________________________________________________\n",
            "inception_4a_5x5_conv1 (Conv2D) (None, 6, 6, 32)     20512       concatenate_2[0][0]              \n",
            "__________________________________________________________________________________________________\n",
            "average_pooling2d_1 (AveragePoo (None, 2, 2, 640)    0           power2_4a[0][0]                  \n",
            "__________________________________________________________________________________________________\n",
            "inception_4a_3x3_bn1 (BatchNorm (None, 6, 6, 96)     384         inception_4a_3x3_conv1[0][0]     \n",
            "__________________________________________________________________________________________________\n",
            "inception_4a_5x5_bn1 (BatchNorm (None, 6, 6, 32)     128         inception_4a_5x5_conv1[0][0]     \n",
            "__________________________________________________________________________________________________\n",
            "mult9_4a (Lambda)               (None, 2, 2, 640)    0           average_pooling2d_1[0][0]        \n",
            "__________________________________________________________________________________________________\n",
            "activation_19 (Activation)      (None, 6, 6, 96)     0           inception_4a_3x3_bn1[0][0]       \n",
            "__________________________________________________________________________________________________\n",
            "activation_21 (Activation)      (None, 6, 6, 32)     0           inception_4a_5x5_bn1[0][0]       \n",
            "__________________________________________________________________________________________________\n",
            "sqrt_4a (Lambda)                (None, 2, 2, 640)    0           mult9_4a[0][0]                   \n",
            "__________________________________________________________________________________________________\n",
            "zero_padding2d_13 (ZeroPadding2 (None, 8, 8, 96)     0           activation_19[0][0]              \n",
            "__________________________________________________________________________________________________\n",
            "zero_padding2d_14 (ZeroPadding2 (None, 10, 10, 32)   0           activation_21[0][0]              \n",
            "__________________________________________________________________________________________________\n",
            "inception_4a_pool_conv (Conv2D) (None, 2, 2, 128)    82048       sqrt_4a[0][0]                    \n",
            "__________________________________________________________________________________________________\n",
            "inception_4a_3x3_conv2 (Conv2D) (None, 6, 6, 192)    166080      zero_padding2d_13[0][0]          \n",
            "__________________________________________________________________________________________________\n",
            "inception_4a_5x5_conv2 (Conv2D) (None, 6, 6, 64)     51264       zero_padding2d_14[0][0]          \n",
            "__________________________________________________________________________________________________\n",
            "inception_4a_pool_bn (BatchNorm (None, 2, 2, 128)    512         inception_4a_pool_conv[0][0]     \n",
            "__________________________________________________________________________________________________\n",
            "inception_4a_1x1_conv (Conv2D)  (None, 6, 6, 256)    164096      concatenate_2[0][0]              \n",
            "__________________________________________________________________________________________________\n",
            "inception_4a_3x3_bn2 (BatchNorm (None, 6, 6, 192)    768         inception_4a_3x3_conv2[0][0]     \n",
            "__________________________________________________________________________________________________\n",
            "inception_4a_5x5_bn2 (BatchNorm (None, 6, 6, 64)     256         inception_4a_5x5_conv2[0][0]     \n",
            "__________________________________________________________________________________________________\n",
            "activation_23 (Activation)      (None, 2, 2, 128)    0           inception_4a_pool_bn[0][0]       \n",
            "__________________________________________________________________________________________________\n",
            "inception_4a_1x1_bn (BatchNorma (None, 6, 6, 256)    1024        inception_4a_1x1_conv[0][0]      \n",
            "__________________________________________________________________________________________________\n",
            "activation_20 (Activation)      (None, 6, 6, 192)    0           inception_4a_3x3_bn2[0][0]       \n",
            "__________________________________________________________________________________________________\n",
            "activation_22 (Activation)      (None, 6, 6, 64)     0           inception_4a_5x5_bn2[0][0]       \n",
            "__________________________________________________________________________________________________\n",
            "zero_padding2d_15 (ZeroPadding2 (None, 6, 6, 128)    0           activation_23[0][0]              \n",
            "__________________________________________________________________________________________________\n",
            "activation_24 (Activation)      (None, 6, 6, 256)    0           inception_4a_1x1_bn[0][0]        \n",
            "__________________________________________________________________________________________________\n",
            "concatenate_3 (Concatenate)     (None, 6, 6, 640)    0           activation_20[0][0]              \n",
            "                                                                 activation_22[0][0]              \n",
            "                                                                 zero_padding2d_15[0][0]          \n",
            "                                                                 activation_24[0][0]              \n",
            "__________________________________________________________________________________________________\n",
            "inception_4e_3x3_conv1 (Conv2D) (None, 6, 6, 160)    102560      concatenate_3[0][0]              \n",
            "__________________________________________________________________________________________________\n",
            "inception_4e_5x5_conv1 (Conv2D) (None, 6, 6, 64)     41024       concatenate_3[0][0]              \n",
            "__________________________________________________________________________________________________\n",
            "inception_4e_3x3_bn1 (BatchNorm (None, 6, 6, 160)    640         inception_4e_3x3_conv1[0][0]     \n",
            "__________________________________________________________________________________________________\n",
            "inception_4e_5x5_bn1 (BatchNorm (None, 6, 6, 64)     256         inception_4e_5x5_conv1[0][0]     \n",
            "__________________________________________________________________________________________________\n",
            "activation_25 (Activation)      (None, 6, 6, 160)    0           inception_4e_3x3_bn1[0][0]       \n",
            "__________________________________________________________________________________________________\n",
            "activation_27 (Activation)      (None, 6, 6, 64)     0           inception_4e_5x5_bn1[0][0]       \n",
            "__________________________________________________________________________________________________\n",
            "zero_padding2d_16 (ZeroPadding2 (None, 8, 8, 160)    0           activation_25[0][0]              \n",
            "__________________________________________________________________________________________________\n",
            "zero_padding2d_17 (ZeroPadding2 (None, 10, 10, 64)   0           activation_27[0][0]              \n",
            "__________________________________________________________________________________________________\n",
            "inception_4e_3x3_conv2 (Conv2D) (None, 3, 3, 256)    368896      zero_padding2d_16[0][0]          \n",
            "__________________________________________________________________________________________________\n",
            "inception_4e_5x5_conv2 (Conv2D) (None, 3, 3, 128)    204928      zero_padding2d_17[0][0]          \n",
            "__________________________________________________________________________________________________\n",
            "inception_4e_3x3_bn2 (BatchNorm (None, 3, 3, 256)    1024        inception_4e_3x3_conv2[0][0]     \n",
            "__________________________________________________________________________________________________\n",
            "inception_4e_5x5_bn2 (BatchNorm (None, 3, 3, 128)    512         inception_4e_5x5_conv2[0][0]     \n",
            "__________________________________________________________________________________________________\n",
            "max_pooling2d_4 (MaxPooling2D)  (None, 2, 2, 640)    0           concatenate_3[0][0]              \n",
            "__________________________________________________________________________________________________\n",
            "activation_26 (Activation)      (None, 3, 3, 256)    0           inception_4e_3x3_bn2[0][0]       \n",
            "__________________________________________________________________________________________________\n",
            "activation_28 (Activation)      (None, 3, 3, 128)    0           inception_4e_5x5_bn2[0][0]       \n",
            "__________________________________________________________________________________________________\n",
            "zero_padding2d_18 (ZeroPadding2 (None, 3, 3, 640)    0           max_pooling2d_4[0][0]            \n",
            "__________________________________________________________________________________________________\n",
            "concatenate_4 (Concatenate)     (None, 3, 3, 1024)   0           activation_26[0][0]              \n",
            "                                                                 activation_28[0][0]              \n",
            "                                                                 zero_padding2d_18[0][0]          \n",
            "__________________________________________________________________________________________________\n",
            "power2_5a (Lambda)              (None, 3, 3, 1024)   0           concatenate_4[0][0]              \n",
            "__________________________________________________________________________________________________\n",
            "inception_5a_3x3_conv1 (Conv2D) (None, 3, 3, 96)     98400       concatenate_4[0][0]              \n",
            "__________________________________________________________________________________________________\n",
            "average_pooling2d_2 (AveragePoo (None, 1, 1, 1024)   0           power2_5a[0][0]                  \n",
            "__________________________________________________________________________________________________\n",
            "inception_5a_3x3_bn1 (BatchNorm (None, 3, 3, 96)     384         inception_5a_3x3_conv1[0][0]     \n",
            "__________________________________________________________________________________________________\n",
            "mult9_5a (Lambda)               (None, 1, 1, 1024)   0           average_pooling2d_2[0][0]        \n",
            "__________________________________________________________________________________________________\n",
            "activation_29 (Activation)      (None, 3, 3, 96)     0           inception_5a_3x3_bn1[0][0]       \n",
            "__________________________________________________________________________________________________\n",
            "sqrt_5a (Lambda)                (None, 1, 1, 1024)   0           mult9_5a[0][0]                   \n",
            "__________________________________________________________________________________________________\n",
            "zero_padding2d_19 (ZeroPadding2 (None, 5, 5, 96)     0           activation_29[0][0]              \n",
            "__________________________________________________________________________________________________\n",
            "inception_5a_pool_conv (Conv2D) (None, 1, 1, 96)     98400       sqrt_5a[0][0]                    \n",
            "__________________________________________________________________________________________________\n",
            "inception_5a_3x3_conv2 (Conv2D) (None, 3, 3, 384)    332160      zero_padding2d_19[0][0]          \n",
            "__________________________________________________________________________________________________\n",
            "inception_5a_pool_bn (BatchNorm (None, 1, 1, 96)     384         inception_5a_pool_conv[0][0]     \n",
            "__________________________________________________________________________________________________\n",
            "inception_5a_1x1_conv (Conv2D)  (None, 3, 3, 256)    262400      concatenate_4[0][0]              \n",
            "__________________________________________________________________________________________________\n",
            "inception_5a_3x3_bn2 (BatchNorm (None, 3, 3, 384)    1536        inception_5a_3x3_conv2[0][0]     \n",
            "__________________________________________________________________________________________________\n",
            "activation_31 (Activation)      (None, 1, 1, 96)     0           inception_5a_pool_bn[0][0]       \n",
            "__________________________________________________________________________________________________\n",
            "inception_5a_1x1_bn (BatchNorma (None, 3, 3, 256)    1024        inception_5a_1x1_conv[0][0]      \n",
            "__________________________________________________________________________________________________\n",
            "activation_30 (Activation)      (None, 3, 3, 384)    0           inception_5a_3x3_bn2[0][0]       \n",
            "__________________________________________________________________________________________________\n",
            "zero_padding2d_20 (ZeroPadding2 (None, 3, 3, 96)     0           activation_31[0][0]              \n",
            "__________________________________________________________________________________________________\n",
            "activation_32 (Activation)      (None, 3, 3, 256)    0           inception_5a_1x1_bn[0][0]        \n",
            "__________________________________________________________________________________________________\n",
            "concatenate_5 (Concatenate)     (None, 3, 3, 736)    0           activation_30[0][0]              \n",
            "                                                                 zero_padding2d_20[0][0]          \n",
            "                                                                 activation_32[0][0]              \n",
            "__________________________________________________________________________________________________\n",
            "inception_5b_3x3_conv1 (Conv2D) (None, 3, 3, 96)     70752       concatenate_5[0][0]              \n",
            "__________________________________________________________________________________________________\n",
            "inception_5b_3x3_bn1 (BatchNorm (None, 3, 3, 96)     384         inception_5b_3x3_conv1[0][0]     \n",
            "__________________________________________________________________________________________________\n",
            "activation_33 (Activation)      (None, 3, 3, 96)     0           inception_5b_3x3_bn1[0][0]       \n",
            "__________________________________________________________________________________________________\n",
            "max_pooling2d_5 (MaxPooling2D)  (None, 1, 1, 736)    0           concatenate_5[0][0]              \n",
            "__________________________________________________________________________________________________\n",
            "zero_padding2d_21 (ZeroPadding2 (None, 5, 5, 96)     0           activation_33[0][0]              \n",
            "__________________________________________________________________________________________________\n",
            "inception_5b_pool_conv (Conv2D) (None, 1, 1, 96)     70752       max_pooling2d_5[0][0]            \n",
            "__________________________________________________________________________________________________\n",
            "inception_5b_3x3_conv2 (Conv2D) (None, 3, 3, 384)    332160      zero_padding2d_21[0][0]          \n",
            "__________________________________________________________________________________________________\n",
            "inception_5b_pool_bn (BatchNorm (None, 1, 1, 96)     384         inception_5b_pool_conv[0][0]     \n",
            "__________________________________________________________________________________________________\n",
            "inception_5b_1x1_conv (Conv2D)  (None, 3, 3, 256)    188672      concatenate_5[0][0]              \n",
            "__________________________________________________________________________________________________\n",
            "inception_5b_3x3_bn2 (BatchNorm (None, 3, 3, 384)    1536        inception_5b_3x3_conv2[0][0]     \n",
            "__________________________________________________________________________________________________\n",
            "activation_35 (Activation)      (None, 1, 1, 96)     0           inception_5b_pool_bn[0][0]       \n",
            "__________________________________________________________________________________________________\n",
            "inception_5b_1x1_bn (BatchNorma (None, 3, 3, 256)    1024        inception_5b_1x1_conv[0][0]      \n",
            "__________________________________________________________________________________________________\n",
            "activation_34 (Activation)      (None, 3, 3, 384)    0           inception_5b_3x3_bn2[0][0]       \n",
            "__________________________________________________________________________________________________\n",
            "zero_padding2d_22 (ZeroPadding2 (None, 3, 3, 96)     0           activation_35[0][0]              \n",
            "__________________________________________________________________________________________________\n",
            "activation_36 (Activation)      (None, 3, 3, 256)    0           inception_5b_1x1_bn[0][0]        \n",
            "__________________________________________________________________________________________________\n",
            "concatenate_6 (Concatenate)     (None, 3, 3, 736)    0           activation_34[0][0]              \n",
            "                                                                 zero_padding2d_22[0][0]          \n",
            "                                                                 activation_36[0][0]              \n",
            "__________________________________________________________________________________________________\n",
            "average_pooling2d_3 (AveragePoo (None, 1, 1, 736)    0           concatenate_6[0][0]              \n",
            "__________________________________________________________________________________________________\n",
            "flatten (Flatten)               (None, 736)          0           average_pooling2d_3[0][0]        \n",
            "__________________________________________________________________________________________________\n",
            "dense_layer (Dense)             (None, 128)          94336       flatten[0][0]                    \n",
            "__________________________________________________________________________________________________\n",
            "norm_layer (Lambda)             (None, 128)          0           dense_layer[0][0]                \n",
            "==================================================================================================\n",
            "Total params: 3,743,280\n",
            "Trainable params: 3,733,968\n",
            "Non-trainable params: 9,312\n",
            "__________________________________________________________________________________________________\n"
          ],
          "name": "stdout"
        }
      ]
    },
    {
      "cell_type": "code",
      "metadata": {
        "id": "DHAe9epLGz--",
        "colab_type": "code",
        "colab": {}
      },
      "source": [
        "for layer in nn4.layers:\n",
        "  layer.trainable = False"
      ],
      "execution_count": 0,
      "outputs": []
    },
    {
      "cell_type": "code",
      "metadata": {
        "id": "E-TDRcbMtuRm",
        "colab_type": "code",
        "colab": {}
      },
      "source": [
        "# tf.keras.utils.plot_model(faceNet)"
      ],
      "execution_count": 0,
      "outputs": []
    },
    {
      "cell_type": "code",
      "metadata": {
        "id": "HmqG9_S8CjOo",
        "colab_type": "code",
        "outputId": "6a84d93b-e3db-4773-8c33-d5becac672d8",
        "colab": {
          "base_uri": "https://localhost:8080/",
          "height": 1000
        }
      },
      "source": [
        "base_model = keras.models.Model(inputs=nn4.input, outputs=nn4.get_layer(name=\"concatenate_4\").output)\n",
        "base_model.trainable = False\n",
        "base_model.summary()"
      ],
      "execution_count": 53,
      "outputs": [
        {
          "output_type": "stream",
          "text": [
            "Model: \"model_1\"\n",
            "__________________________________________________________________________________________________\n",
            "Layer (type)                    Output Shape         Param #     Connected to                     \n",
            "==================================================================================================\n",
            "input_1 (InputLayer)            [(None, 96, 96, 3)]  0                                            \n",
            "__________________________________________________________________________________________________\n",
            "zero_padding2d (ZeroPadding2D)  (None, 102, 102, 3)  0           input_1[0][0]                    \n",
            "__________________________________________________________________________________________________\n",
            "conv1 (Conv2D)                  (None, 48, 48, 64)   9472        zero_padding2d[0][0]             \n",
            "__________________________________________________________________________________________________\n",
            "bn1 (BatchNormalization)        (None, 48, 48, 64)   256         conv1[0][0]                      \n",
            "__________________________________________________________________________________________________\n",
            "activation (Activation)         (None, 48, 48, 64)   0           bn1[0][0]                        \n",
            "__________________________________________________________________________________________________\n",
            "zero_padding2d_1 (ZeroPadding2D (None, 50, 50, 64)   0           activation[0][0]                 \n",
            "__________________________________________________________________________________________________\n",
            "max_pooling2d (MaxPooling2D)    (None, 24, 24, 64)   0           zero_padding2d_1[0][0]           \n",
            "__________________________________________________________________________________________________\n",
            "lrn_1 (Lambda)                  (None, 24, 24, 64)   0           max_pooling2d[0][0]              \n",
            "__________________________________________________________________________________________________\n",
            "conv2 (Conv2D)                  (None, 24, 24, 64)   4160        lrn_1[0][0]                      \n",
            "__________________________________________________________________________________________________\n",
            "bn2 (BatchNormalization)        (None, 24, 24, 64)   256         conv2[0][0]                      \n",
            "__________________________________________________________________________________________________\n",
            "activation_1 (Activation)       (None, 24, 24, 64)   0           bn2[0][0]                        \n",
            "__________________________________________________________________________________________________\n",
            "zero_padding2d_2 (ZeroPadding2D (None, 26, 26, 64)   0           activation_1[0][0]               \n",
            "__________________________________________________________________________________________________\n",
            "conv3 (Conv2D)                  (None, 24, 24, 192)  110784      zero_padding2d_2[0][0]           \n",
            "__________________________________________________________________________________________________\n",
            "bn3 (BatchNormalization)        (None, 24, 24, 192)  768         conv3[0][0]                      \n",
            "__________________________________________________________________________________________________\n",
            "activation_2 (Activation)       (None, 24, 24, 192)  0           bn3[0][0]                        \n",
            "__________________________________________________________________________________________________\n",
            "lrn_2 (Lambda)                  (None, 24, 24, 192)  0           activation_2[0][0]               \n",
            "__________________________________________________________________________________________________\n",
            "zero_padding2d_3 (ZeroPadding2D (None, 26, 26, 192)  0           lrn_2[0][0]                      \n",
            "__________________________________________________________________________________________________\n",
            "max_pooling2d_1 (MaxPooling2D)  (None, 12, 12, 192)  0           zero_padding2d_3[0][0]           \n",
            "__________________________________________________________________________________________________\n",
            "inception_3a_3x3_conv1 (Conv2D) (None, 12, 12, 96)   18528       max_pooling2d_1[0][0]            \n",
            "__________________________________________________________________________________________________\n",
            "inception_3a_5x5_conv1 (Conv2D) (None, 12, 12, 16)   3088        max_pooling2d_1[0][0]            \n",
            "__________________________________________________________________________________________________\n",
            "inception_3a_3x3_bn1 (BatchNorm (None, 12, 12, 96)   384         inception_3a_3x3_conv1[0][0]     \n",
            "__________________________________________________________________________________________________\n",
            "inception_3a_5x5_bn1 (BatchNorm (None, 12, 12, 16)   64          inception_3a_5x5_conv1[0][0]     \n",
            "__________________________________________________________________________________________________\n",
            "activation_3 (Activation)       (None, 12, 12, 96)   0           inception_3a_3x3_bn1[0][0]       \n",
            "__________________________________________________________________________________________________\n",
            "activation_5 (Activation)       (None, 12, 12, 16)   0           inception_3a_5x5_bn1[0][0]       \n",
            "__________________________________________________________________________________________________\n",
            "max_pooling2d_2 (MaxPooling2D)  (None, 5, 5, 192)    0           max_pooling2d_1[0][0]            \n",
            "__________________________________________________________________________________________________\n",
            "zero_padding2d_4 (ZeroPadding2D (None, 14, 14, 96)   0           activation_3[0][0]               \n",
            "__________________________________________________________________________________________________\n",
            "zero_padding2d_5 (ZeroPadding2D (None, 16, 16, 16)   0           activation_5[0][0]               \n",
            "__________________________________________________________________________________________________\n",
            "inception_3a_pool_conv (Conv2D) (None, 5, 5, 32)     6176        max_pooling2d_2[0][0]            \n",
            "__________________________________________________________________________________________________\n",
            "inception_3a_3x3_conv2 (Conv2D) (None, 12, 12, 128)  110720      zero_padding2d_4[0][0]           \n",
            "__________________________________________________________________________________________________\n",
            "inception_3a_5x5_conv2 (Conv2D) (None, 12, 12, 32)   12832       zero_padding2d_5[0][0]           \n",
            "__________________________________________________________________________________________________\n",
            "inception_3a_pool_bn (BatchNorm (None, 5, 5, 32)     128         inception_3a_pool_conv[0][0]     \n",
            "__________________________________________________________________________________________________\n",
            "inception_3a_1x1_conv (Conv2D)  (None, 12, 12, 64)   12352       max_pooling2d_1[0][0]            \n",
            "__________________________________________________________________________________________________\n",
            "inception_3a_3x3_bn2 (BatchNorm (None, 12, 12, 128)  512         inception_3a_3x3_conv2[0][0]     \n",
            "__________________________________________________________________________________________________\n",
            "inception_3a_5x5_bn2 (BatchNorm (None, 12, 12, 32)   128         inception_3a_5x5_conv2[0][0]     \n",
            "__________________________________________________________________________________________________\n",
            "activation_7 (Activation)       (None, 5, 5, 32)     0           inception_3a_pool_bn[0][0]       \n",
            "__________________________________________________________________________________________________\n",
            "inception_3a_1x1_bn (BatchNorma (None, 12, 12, 64)   256         inception_3a_1x1_conv[0][0]      \n",
            "__________________________________________________________________________________________________\n",
            "activation_4 (Activation)       (None, 12, 12, 128)  0           inception_3a_3x3_bn2[0][0]       \n",
            "__________________________________________________________________________________________________\n",
            "activation_6 (Activation)       (None, 12, 12, 32)   0           inception_3a_5x5_bn2[0][0]       \n",
            "__________________________________________________________________________________________________\n",
            "zero_padding2d_6 (ZeroPadding2D (None, 12, 12, 32)   0           activation_7[0][0]               \n",
            "__________________________________________________________________________________________________\n",
            "activation_8 (Activation)       (None, 12, 12, 64)   0           inception_3a_1x1_bn[0][0]        \n",
            "__________________________________________________________________________________________________\n",
            "concatenate (Concatenate)       (None, 12, 12, 256)  0           activation_4[0][0]               \n",
            "                                                                 activation_6[0][0]               \n",
            "                                                                 zero_padding2d_6[0][0]           \n",
            "                                                                 activation_8[0][0]               \n",
            "__________________________________________________________________________________________________\n",
            "power2_3b (Lambda)              (None, 12, 12, 256)  0           concatenate[0][0]                \n",
            "__________________________________________________________________________________________________\n",
            "inception_3b_3x3_conv1 (Conv2D) (None, 12, 12, 96)   24672       concatenate[0][0]                \n",
            "__________________________________________________________________________________________________\n",
            "inception_3b_5x5_conv1 (Conv2D) (None, 12, 12, 32)   8224        concatenate[0][0]                \n",
            "__________________________________________________________________________________________________\n",
            "average_pooling2d (AveragePooli (None, 4, 4, 256)    0           power2_3b[0][0]                  \n",
            "__________________________________________________________________________________________________\n",
            "inception_3b_3x3_bn1 (BatchNorm (None, 12, 12, 96)   384         inception_3b_3x3_conv1[0][0]     \n",
            "__________________________________________________________________________________________________\n",
            "inception_3b_5x5_bn1 (BatchNorm (None, 12, 12, 32)   128         inception_3b_5x5_conv1[0][0]     \n",
            "__________________________________________________________________________________________________\n",
            "mult9_3b (Lambda)               (None, 4, 4, 256)    0           average_pooling2d[0][0]          \n",
            "__________________________________________________________________________________________________\n",
            "activation_9 (Activation)       (None, 12, 12, 96)   0           inception_3b_3x3_bn1[0][0]       \n",
            "__________________________________________________________________________________________________\n",
            "activation_11 (Activation)      (None, 12, 12, 32)   0           inception_3b_5x5_bn1[0][0]       \n",
            "__________________________________________________________________________________________________\n",
            "sqrt_3b (Lambda)                (None, 4, 4, 256)    0           mult9_3b[0][0]                   \n",
            "__________________________________________________________________________________________________\n",
            "zero_padding2d_7 (ZeroPadding2D (None, 14, 14, 96)   0           activation_9[0][0]               \n",
            "__________________________________________________________________________________________________\n",
            "zero_padding2d_8 (ZeroPadding2D (None, 16, 16, 32)   0           activation_11[0][0]              \n",
            "__________________________________________________________________________________________________\n",
            "inception_3b_pool_conv (Conv2D) (None, 4, 4, 64)     16448       sqrt_3b[0][0]                    \n",
            "__________________________________________________________________________________________________\n",
            "inception_3b_3x3_conv2 (Conv2D) (None, 12, 12, 128)  110720      zero_padding2d_7[0][0]           \n",
            "__________________________________________________________________________________________________\n",
            "inception_3b_5x5_conv2 (Conv2D) (None, 12, 12, 64)   51264       zero_padding2d_8[0][0]           \n",
            "__________________________________________________________________________________________________\n",
            "inception_3b_pool_bn (BatchNorm (None, 4, 4, 64)     256         inception_3b_pool_conv[0][0]     \n",
            "__________________________________________________________________________________________________\n",
            "inception_3b_1x1_conv (Conv2D)  (None, 12, 12, 64)   16448       concatenate[0][0]                \n",
            "__________________________________________________________________________________________________\n",
            "inception_3b_3x3_bn2 (BatchNorm (None, 12, 12, 128)  512         inception_3b_3x3_conv2[0][0]     \n",
            "__________________________________________________________________________________________________\n",
            "inception_3b_5x5_bn2 (BatchNorm (None, 12, 12, 64)   256         inception_3b_5x5_conv2[0][0]     \n",
            "__________________________________________________________________________________________________\n",
            "activation_13 (Activation)      (None, 4, 4, 64)     0           inception_3b_pool_bn[0][0]       \n",
            "__________________________________________________________________________________________________\n",
            "inception_3b_1x1_bn (BatchNorma (None, 12, 12, 64)   256         inception_3b_1x1_conv[0][0]      \n",
            "__________________________________________________________________________________________________\n",
            "activation_10 (Activation)      (None, 12, 12, 128)  0           inception_3b_3x3_bn2[0][0]       \n",
            "__________________________________________________________________________________________________\n",
            "activation_12 (Activation)      (None, 12, 12, 64)   0           inception_3b_5x5_bn2[0][0]       \n",
            "__________________________________________________________________________________________________\n",
            "zero_padding2d_9 (ZeroPadding2D (None, 12, 12, 64)   0           activation_13[0][0]              \n",
            "__________________________________________________________________________________________________\n",
            "activation_14 (Activation)      (None, 12, 12, 64)   0           inception_3b_1x1_bn[0][0]        \n",
            "__________________________________________________________________________________________________\n",
            "concatenate_1 (Concatenate)     (None, 12, 12, 320)  0           activation_10[0][0]              \n",
            "                                                                 activation_12[0][0]              \n",
            "                                                                 zero_padding2d_9[0][0]           \n",
            "                                                                 activation_14[0][0]              \n",
            "__________________________________________________________________________________________________\n",
            "inception_3c_3x3_conv1 (Conv2D) (None, 12, 12, 128)  41088       concatenate_1[0][0]              \n",
            "__________________________________________________________________________________________________\n",
            "inception_3c_5x5_conv1 (Conv2D) (None, 12, 12, 32)   10272       concatenate_1[0][0]              \n",
            "__________________________________________________________________________________________________\n",
            "inception_3c_3x3_bn1 (BatchNorm (None, 12, 12, 128)  512         inception_3c_3x3_conv1[0][0]     \n",
            "__________________________________________________________________________________________________\n",
            "inception_3c_5x5_bn1 (BatchNorm (None, 12, 12, 32)   128         inception_3c_5x5_conv1[0][0]     \n",
            "__________________________________________________________________________________________________\n",
            "activation_15 (Activation)      (None, 12, 12, 128)  0           inception_3c_3x3_bn1[0][0]       \n",
            "__________________________________________________________________________________________________\n",
            "activation_17 (Activation)      (None, 12, 12, 32)   0           inception_3c_5x5_bn1[0][0]       \n",
            "__________________________________________________________________________________________________\n",
            "zero_padding2d_10 (ZeroPadding2 (None, 14, 14, 128)  0           activation_15[0][0]              \n",
            "__________________________________________________________________________________________________\n",
            "zero_padding2d_11 (ZeroPadding2 (None, 16, 16, 32)   0           activation_17[0][0]              \n",
            "__________________________________________________________________________________________________\n",
            "inception_3c_3x3_conv2 (Conv2D) (None, 6, 6, 256)    295168      zero_padding2d_10[0][0]          \n",
            "__________________________________________________________________________________________________\n",
            "inception_3c_5x5_conv2 (Conv2D) (None, 6, 6, 64)     51264       zero_padding2d_11[0][0]          \n",
            "__________________________________________________________________________________________________\n",
            "inception_3c_3x3_bn2 (BatchNorm (None, 6, 6, 256)    1024        inception_3c_3x3_conv2[0][0]     \n",
            "__________________________________________________________________________________________________\n",
            "inception_3c_5x5_bn2 (BatchNorm (None, 6, 6, 64)     256         inception_3c_5x5_conv2[0][0]     \n",
            "__________________________________________________________________________________________________\n",
            "max_pooling2d_3 (MaxPooling2D)  (None, 5, 5, 320)    0           concatenate_1[0][0]              \n",
            "__________________________________________________________________________________________________\n",
            "activation_16 (Activation)      (None, 6, 6, 256)    0           inception_3c_3x3_bn2[0][0]       \n",
            "__________________________________________________________________________________________________\n",
            "activation_18 (Activation)      (None, 6, 6, 64)     0           inception_3c_5x5_bn2[0][0]       \n",
            "__________________________________________________________________________________________________\n",
            "zero_padding2d_12 (ZeroPadding2 (None, 6, 6, 320)    0           max_pooling2d_3[0][0]            \n",
            "__________________________________________________________________________________________________\n",
            "concatenate_2 (Concatenate)     (None, 6, 6, 640)    0           activation_16[0][0]              \n",
            "                                                                 activation_18[0][0]              \n",
            "                                                                 zero_padding2d_12[0][0]          \n",
            "__________________________________________________________________________________________________\n",
            "power2_4a (Lambda)              (None, 6, 6, 640)    0           concatenate_2[0][0]              \n",
            "__________________________________________________________________________________________________\n",
            "inception_4a_3x3_conv1 (Conv2D) (None, 6, 6, 96)     61536       concatenate_2[0][0]              \n",
            "__________________________________________________________________________________________________\n",
            "inception_4a_5x5_conv1 (Conv2D) (None, 6, 6, 32)     20512       concatenate_2[0][0]              \n",
            "__________________________________________________________________________________________________\n",
            "average_pooling2d_1 (AveragePoo (None, 2, 2, 640)    0           power2_4a[0][0]                  \n",
            "__________________________________________________________________________________________________\n",
            "inception_4a_3x3_bn1 (BatchNorm (None, 6, 6, 96)     384         inception_4a_3x3_conv1[0][0]     \n",
            "__________________________________________________________________________________________________\n",
            "inception_4a_5x5_bn1 (BatchNorm (None, 6, 6, 32)     128         inception_4a_5x5_conv1[0][0]     \n",
            "__________________________________________________________________________________________________\n",
            "mult9_4a (Lambda)               (None, 2, 2, 640)    0           average_pooling2d_1[0][0]        \n",
            "__________________________________________________________________________________________________\n",
            "activation_19 (Activation)      (None, 6, 6, 96)     0           inception_4a_3x3_bn1[0][0]       \n",
            "__________________________________________________________________________________________________\n",
            "activation_21 (Activation)      (None, 6, 6, 32)     0           inception_4a_5x5_bn1[0][0]       \n",
            "__________________________________________________________________________________________________\n",
            "sqrt_4a (Lambda)                (None, 2, 2, 640)    0           mult9_4a[0][0]                   \n",
            "__________________________________________________________________________________________________\n",
            "zero_padding2d_13 (ZeroPadding2 (None, 8, 8, 96)     0           activation_19[0][0]              \n",
            "__________________________________________________________________________________________________\n",
            "zero_padding2d_14 (ZeroPadding2 (None, 10, 10, 32)   0           activation_21[0][0]              \n",
            "__________________________________________________________________________________________________\n",
            "inception_4a_pool_conv (Conv2D) (None, 2, 2, 128)    82048       sqrt_4a[0][0]                    \n",
            "__________________________________________________________________________________________________\n",
            "inception_4a_3x3_conv2 (Conv2D) (None, 6, 6, 192)    166080      zero_padding2d_13[0][0]          \n",
            "__________________________________________________________________________________________________\n",
            "inception_4a_5x5_conv2 (Conv2D) (None, 6, 6, 64)     51264       zero_padding2d_14[0][0]          \n",
            "__________________________________________________________________________________________________\n",
            "inception_4a_pool_bn (BatchNorm (None, 2, 2, 128)    512         inception_4a_pool_conv[0][0]     \n",
            "__________________________________________________________________________________________________\n",
            "inception_4a_1x1_conv (Conv2D)  (None, 6, 6, 256)    164096      concatenate_2[0][0]              \n",
            "__________________________________________________________________________________________________\n",
            "inception_4a_3x3_bn2 (BatchNorm (None, 6, 6, 192)    768         inception_4a_3x3_conv2[0][0]     \n",
            "__________________________________________________________________________________________________\n",
            "inception_4a_5x5_bn2 (BatchNorm (None, 6, 6, 64)     256         inception_4a_5x5_conv2[0][0]     \n",
            "__________________________________________________________________________________________________\n",
            "activation_23 (Activation)      (None, 2, 2, 128)    0           inception_4a_pool_bn[0][0]       \n",
            "__________________________________________________________________________________________________\n",
            "inception_4a_1x1_bn (BatchNorma (None, 6, 6, 256)    1024        inception_4a_1x1_conv[0][0]      \n",
            "__________________________________________________________________________________________________\n",
            "activation_20 (Activation)      (None, 6, 6, 192)    0           inception_4a_3x3_bn2[0][0]       \n",
            "__________________________________________________________________________________________________\n",
            "activation_22 (Activation)      (None, 6, 6, 64)     0           inception_4a_5x5_bn2[0][0]       \n",
            "__________________________________________________________________________________________________\n",
            "zero_padding2d_15 (ZeroPadding2 (None, 6, 6, 128)    0           activation_23[0][0]              \n",
            "__________________________________________________________________________________________________\n",
            "activation_24 (Activation)      (None, 6, 6, 256)    0           inception_4a_1x1_bn[0][0]        \n",
            "__________________________________________________________________________________________________\n",
            "concatenate_3 (Concatenate)     (None, 6, 6, 640)    0           activation_20[0][0]              \n",
            "                                                                 activation_22[0][0]              \n",
            "                                                                 zero_padding2d_15[0][0]          \n",
            "                                                                 activation_24[0][0]              \n",
            "__________________________________________________________________________________________________\n",
            "inception_4e_3x3_conv1 (Conv2D) (None, 6, 6, 160)    102560      concatenate_3[0][0]              \n",
            "__________________________________________________________________________________________________\n",
            "inception_4e_5x5_conv1 (Conv2D) (None, 6, 6, 64)     41024       concatenate_3[0][0]              \n",
            "__________________________________________________________________________________________________\n",
            "inception_4e_3x3_bn1 (BatchNorm (None, 6, 6, 160)    640         inception_4e_3x3_conv1[0][0]     \n",
            "__________________________________________________________________________________________________\n",
            "inception_4e_5x5_bn1 (BatchNorm (None, 6, 6, 64)     256         inception_4e_5x5_conv1[0][0]     \n",
            "__________________________________________________________________________________________________\n",
            "activation_25 (Activation)      (None, 6, 6, 160)    0           inception_4e_3x3_bn1[0][0]       \n",
            "__________________________________________________________________________________________________\n",
            "activation_27 (Activation)      (None, 6, 6, 64)     0           inception_4e_5x5_bn1[0][0]       \n",
            "__________________________________________________________________________________________________\n",
            "zero_padding2d_16 (ZeroPadding2 (None, 8, 8, 160)    0           activation_25[0][0]              \n",
            "__________________________________________________________________________________________________\n",
            "zero_padding2d_17 (ZeroPadding2 (None, 10, 10, 64)   0           activation_27[0][0]              \n",
            "__________________________________________________________________________________________________\n",
            "inception_4e_3x3_conv2 (Conv2D) (None, 3, 3, 256)    368896      zero_padding2d_16[0][0]          \n",
            "__________________________________________________________________________________________________\n",
            "inception_4e_5x5_conv2 (Conv2D) (None, 3, 3, 128)    204928      zero_padding2d_17[0][0]          \n",
            "__________________________________________________________________________________________________\n",
            "inception_4e_3x3_bn2 (BatchNorm (None, 3, 3, 256)    1024        inception_4e_3x3_conv2[0][0]     \n",
            "__________________________________________________________________________________________________\n",
            "inception_4e_5x5_bn2 (BatchNorm (None, 3, 3, 128)    512         inception_4e_5x5_conv2[0][0]     \n",
            "__________________________________________________________________________________________________\n",
            "max_pooling2d_4 (MaxPooling2D)  (None, 2, 2, 640)    0           concatenate_3[0][0]              \n",
            "__________________________________________________________________________________________________\n",
            "activation_26 (Activation)      (None, 3, 3, 256)    0           inception_4e_3x3_bn2[0][0]       \n",
            "__________________________________________________________________________________________________\n",
            "activation_28 (Activation)      (None, 3, 3, 128)    0           inception_4e_5x5_bn2[0][0]       \n",
            "__________________________________________________________________________________________________\n",
            "zero_padding2d_18 (ZeroPadding2 (None, 3, 3, 640)    0           max_pooling2d_4[0][0]            \n",
            "__________________________________________________________________________________________________\n",
            "concatenate_4 (Concatenate)     (None, 3, 3, 1024)   0           activation_26[0][0]              \n",
            "                                                                 activation_28[0][0]              \n",
            "                                                                 zero_padding2d_18[0][0]          \n",
            "==================================================================================================\n",
            "Total params: 2,188,592\n",
            "Trainable params: 0\n",
            "Non-trainable params: 2,188,592\n",
            "__________________________________________________________________________________________________\n"
          ],
          "name": "stdout"
        }
      ]
    },
    {
      "cell_type": "code",
      "metadata": {
        "id": "CaEPYnK97rXt",
        "colab_type": "code",
        "colab": {}
      },
      "source": [
        "def conv_block(x, growth_rate, name):\n",
        "  \"\"\"A building block for a dense block.\n",
        "  # Arguments\n",
        "      x: input tensor.\n",
        "      growth_rate: float, growth rate at dense layers.\n",
        "      name: string, block label.\n",
        "  # Returns\n",
        "      Output tensor for the block.\n",
        "  \"\"\"\n",
        "  x1 = layers.BatchNormalization(epsilon=1.001e-5,\n",
        "                                  name=name + '_0_bn')(x)\n",
        "  x1 = layers.ReLU(max_value=6., name=name + '_0_relu')(x1)\n",
        "  x1 = layers.Dropout(0.4)(x1)\n",
        "  x1 = layers.Conv2D(4 * growth_rate, 1,\n",
        "                      use_bias=False,\n",
        "                      name=name + '_1_conv')(x1)\n",
        "  x1 = layers.BatchNormalization(epsilon=1.001e-5,\n",
        "                                  name=name + '_1_bn')(x1)\n",
        "  x1 = layers.ReLU(max_value=6., name=name + '_1_relu')(x1)\n",
        "  x1 = layers.Dropout(0.4)(x1)\n",
        "  x1 = layers.Conv2D(growth_rate, 3,\n",
        "                      padding='same',\n",
        "                      use_bias=False,\n",
        "                      name=name + '_2_conv')(x1)\n",
        "  x = layers.Concatenate(name=name + '_concat')([x, x1])\n",
        "  return x\n",
        "\n",
        "def dense_block(x, blocks, name, growth=64):\n",
        "  \"\"\"A dense block.\n",
        "  # Arguments\n",
        "      x: input tensor.\n",
        "      blocks: integer, the number of building blocks.\n",
        "      name: string, block label.\n",
        "  # Returns\n",
        "      output tensor for the block.\n",
        "  \"\"\"\n",
        "  for i in range(blocks):\n",
        "      x = conv_block(x, growth, name=name + '_block' + str(i + 1))\n",
        "  return x"
      ],
      "execution_count": 0,
      "outputs": []
    },
    {
      "cell_type": "code",
      "metadata": {
        "id": "qI-Zv6BQg-xh",
        "colab_type": "code",
        "colab": {}
      },
      "source": [
        "def get_embeddings(input_tensor):\n",
        "  x = base_model(input_tensor)\n",
        "  x = keras.layers.Dropout(0.2)(x)\n",
        "  x = keras.layers.Conv2D(512, 1, padding='same', use_bias=False)(x)\n",
        "  x = dense_block(x, 5, name=\"dense1\")\n",
        "  x = keras.layers.BatchNormalization(epsilon=1.001e-5)(x)\n",
        "  x = keras.layers.ReLU(max_value=6.)(x)\n",
        "  x = keras.layers.GlobalAveragePooling2D()(x)\n",
        "  x = layers.Dropout(0.5)(x)\n",
        "  x = keras.layers.Dense(512)(x)\n",
        "  x = keras.layers.BatchNormalization(epsilon=1.001e-5)(x)\n",
        "  x = keras.layers.ReLU(max_value=6.)(x)\n",
        "  x = layers.Dropout(0.5)(x)\n",
        "  x = keras.layers.Dense(16)(x)\n",
        "  x = tf.math.l2_normalize(x, axis=-1)\n",
        "  return x"
      ],
      "execution_count": 0,
      "outputs": []
    },
    {
      "cell_type": "code",
      "metadata": {
        "id": "dxYmBLWmj7Ex",
        "colab_type": "code",
        "colab": {}
      },
      "source": [
        "inputs = keras.layers.Input(shape=(96, 96, 3))\n",
        "x = get_embeddings(inputs)\n",
        "feature_extractor = keras.Model(inputs, x, name=\"FEC_extractor\")"
      ],
      "execution_count": 0,
      "outputs": []
    },
    {
      "cell_type": "code",
      "metadata": {
        "id": "NylLmoedkZe4",
        "colab_type": "code",
        "outputId": "3e989dad-0c72-4fc1-cc90-229ae7087b8c",
        "colab": {
          "base_uri": "https://localhost:8080/",
          "height": 1000
        }
      },
      "source": [
        "feature_extractor.summary()"
      ],
      "execution_count": 57,
      "outputs": [
        {
          "output_type": "stream",
          "text": [
            "Model: \"FEC_extractor\"\n",
            "__________________________________________________________________________________________________\n",
            "Layer (type)                    Output Shape         Param #     Connected to                     \n",
            "==================================================================================================\n",
            "input_2 (InputLayer)            [(None, 96, 96, 3)]  0                                            \n",
            "__________________________________________________________________________________________________\n",
            "model_1 (Model)                 (None, 3, 3, 1024)   2188592     input_2[0][0]                    \n",
            "__________________________________________________________________________________________________\n",
            "dropout (Dropout)               (None, 3, 3, 1024)   0           model_1[1][0]                    \n",
            "__________________________________________________________________________________________________\n",
            "conv2d (Conv2D)                 (None, 3, 3, 512)    524288      dropout[0][0]                    \n",
            "__________________________________________________________________________________________________\n",
            "dense1_block1_0_bn (BatchNormal (None, 3, 3, 512)    2048        conv2d[0][0]                     \n",
            "__________________________________________________________________________________________________\n",
            "dense1_block1_0_relu (ReLU)     (None, 3, 3, 512)    0           dense1_block1_0_bn[0][0]         \n",
            "__________________________________________________________________________________________________\n",
            "dropout_1 (Dropout)             (None, 3, 3, 512)    0           dense1_block1_0_relu[0][0]       \n",
            "__________________________________________________________________________________________________\n",
            "dense1_block1_1_conv (Conv2D)   (None, 3, 3, 256)    131072      dropout_1[0][0]                  \n",
            "__________________________________________________________________________________________________\n",
            "dense1_block1_1_bn (BatchNormal (None, 3, 3, 256)    1024        dense1_block1_1_conv[0][0]       \n",
            "__________________________________________________________________________________________________\n",
            "dense1_block1_1_relu (ReLU)     (None, 3, 3, 256)    0           dense1_block1_1_bn[0][0]         \n",
            "__________________________________________________________________________________________________\n",
            "dropout_2 (Dropout)             (None, 3, 3, 256)    0           dense1_block1_1_relu[0][0]       \n",
            "__________________________________________________________________________________________________\n",
            "dense1_block1_2_conv (Conv2D)   (None, 3, 3, 64)     147456      dropout_2[0][0]                  \n",
            "__________________________________________________________________________________________________\n",
            "dense1_block1_concat (Concatena (None, 3, 3, 576)    0           conv2d[0][0]                     \n",
            "                                                                 dense1_block1_2_conv[0][0]       \n",
            "__________________________________________________________________________________________________\n",
            "dense1_block2_0_bn (BatchNormal (None, 3, 3, 576)    2304        dense1_block1_concat[0][0]       \n",
            "__________________________________________________________________________________________________\n",
            "dense1_block2_0_relu (ReLU)     (None, 3, 3, 576)    0           dense1_block2_0_bn[0][0]         \n",
            "__________________________________________________________________________________________________\n",
            "dropout_3 (Dropout)             (None, 3, 3, 576)    0           dense1_block2_0_relu[0][0]       \n",
            "__________________________________________________________________________________________________\n",
            "dense1_block2_1_conv (Conv2D)   (None, 3, 3, 256)    147456      dropout_3[0][0]                  \n",
            "__________________________________________________________________________________________________\n",
            "dense1_block2_1_bn (BatchNormal (None, 3, 3, 256)    1024        dense1_block2_1_conv[0][0]       \n",
            "__________________________________________________________________________________________________\n",
            "dense1_block2_1_relu (ReLU)     (None, 3, 3, 256)    0           dense1_block2_1_bn[0][0]         \n",
            "__________________________________________________________________________________________________\n",
            "dropout_4 (Dropout)             (None, 3, 3, 256)    0           dense1_block2_1_relu[0][0]       \n",
            "__________________________________________________________________________________________________\n",
            "dense1_block2_2_conv (Conv2D)   (None, 3, 3, 64)     147456      dropout_4[0][0]                  \n",
            "__________________________________________________________________________________________________\n",
            "dense1_block2_concat (Concatena (None, 3, 3, 640)    0           dense1_block1_concat[0][0]       \n",
            "                                                                 dense1_block2_2_conv[0][0]       \n",
            "__________________________________________________________________________________________________\n",
            "dense1_block3_0_bn (BatchNormal (None, 3, 3, 640)    2560        dense1_block2_concat[0][0]       \n",
            "__________________________________________________________________________________________________\n",
            "dense1_block3_0_relu (ReLU)     (None, 3, 3, 640)    0           dense1_block3_0_bn[0][0]         \n",
            "__________________________________________________________________________________________________\n",
            "dropout_5 (Dropout)             (None, 3, 3, 640)    0           dense1_block3_0_relu[0][0]       \n",
            "__________________________________________________________________________________________________\n",
            "dense1_block3_1_conv (Conv2D)   (None, 3, 3, 256)    163840      dropout_5[0][0]                  \n",
            "__________________________________________________________________________________________________\n",
            "dense1_block3_1_bn (BatchNormal (None, 3, 3, 256)    1024        dense1_block3_1_conv[0][0]       \n",
            "__________________________________________________________________________________________________\n",
            "dense1_block3_1_relu (ReLU)     (None, 3, 3, 256)    0           dense1_block3_1_bn[0][0]         \n",
            "__________________________________________________________________________________________________\n",
            "dropout_6 (Dropout)             (None, 3, 3, 256)    0           dense1_block3_1_relu[0][0]       \n",
            "__________________________________________________________________________________________________\n",
            "dense1_block3_2_conv (Conv2D)   (None, 3, 3, 64)     147456      dropout_6[0][0]                  \n",
            "__________________________________________________________________________________________________\n",
            "dense1_block3_concat (Concatena (None, 3, 3, 704)    0           dense1_block2_concat[0][0]       \n",
            "                                                                 dense1_block3_2_conv[0][0]       \n",
            "__________________________________________________________________________________________________\n",
            "dense1_block4_0_bn (BatchNormal (None, 3, 3, 704)    2816        dense1_block3_concat[0][0]       \n",
            "__________________________________________________________________________________________________\n",
            "dense1_block4_0_relu (ReLU)     (None, 3, 3, 704)    0           dense1_block4_0_bn[0][0]         \n",
            "__________________________________________________________________________________________________\n",
            "dropout_7 (Dropout)             (None, 3, 3, 704)    0           dense1_block4_0_relu[0][0]       \n",
            "__________________________________________________________________________________________________\n",
            "dense1_block4_1_conv (Conv2D)   (None, 3, 3, 256)    180224      dropout_7[0][0]                  \n",
            "__________________________________________________________________________________________________\n",
            "dense1_block4_1_bn (BatchNormal (None, 3, 3, 256)    1024        dense1_block4_1_conv[0][0]       \n",
            "__________________________________________________________________________________________________\n",
            "dense1_block4_1_relu (ReLU)     (None, 3, 3, 256)    0           dense1_block4_1_bn[0][0]         \n",
            "__________________________________________________________________________________________________\n",
            "dropout_8 (Dropout)             (None, 3, 3, 256)    0           dense1_block4_1_relu[0][0]       \n",
            "__________________________________________________________________________________________________\n",
            "dense1_block4_2_conv (Conv2D)   (None, 3, 3, 64)     147456      dropout_8[0][0]                  \n",
            "__________________________________________________________________________________________________\n",
            "dense1_block4_concat (Concatena (None, 3, 3, 768)    0           dense1_block3_concat[0][0]       \n",
            "                                                                 dense1_block4_2_conv[0][0]       \n",
            "__________________________________________________________________________________________________\n",
            "dense1_block5_0_bn (BatchNormal (None, 3, 3, 768)    3072        dense1_block4_concat[0][0]       \n",
            "__________________________________________________________________________________________________\n",
            "dense1_block5_0_relu (ReLU)     (None, 3, 3, 768)    0           dense1_block5_0_bn[0][0]         \n",
            "__________________________________________________________________________________________________\n",
            "dropout_9 (Dropout)             (None, 3, 3, 768)    0           dense1_block5_0_relu[0][0]       \n",
            "__________________________________________________________________________________________________\n",
            "dense1_block5_1_conv (Conv2D)   (None, 3, 3, 256)    196608      dropout_9[0][0]                  \n",
            "__________________________________________________________________________________________________\n",
            "dense1_block5_1_bn (BatchNormal (None, 3, 3, 256)    1024        dense1_block5_1_conv[0][0]       \n",
            "__________________________________________________________________________________________________\n",
            "dense1_block5_1_relu (ReLU)     (None, 3, 3, 256)    0           dense1_block5_1_bn[0][0]         \n",
            "__________________________________________________________________________________________________\n",
            "dropout_10 (Dropout)            (None, 3, 3, 256)    0           dense1_block5_1_relu[0][0]       \n",
            "__________________________________________________________________________________________________\n",
            "dense1_block5_2_conv (Conv2D)   (None, 3, 3, 64)     147456      dropout_10[0][0]                 \n",
            "__________________________________________________________________________________________________\n",
            "dense1_block5_concat (Concatena (None, 3, 3, 832)    0           dense1_block4_concat[0][0]       \n",
            "                                                                 dense1_block5_2_conv[0][0]       \n",
            "__________________________________________________________________________________________________\n",
            "batch_normalization (BatchNorma (None, 3, 3, 832)    3328        dense1_block5_concat[0][0]       \n",
            "__________________________________________________________________________________________________\n",
            "re_lu (ReLU)                    (None, 3, 3, 832)    0           batch_normalization[0][0]        \n",
            "__________________________________________________________________________________________________\n",
            "global_average_pooling2d (Globa (None, 832)          0           re_lu[0][0]                      \n",
            "__________________________________________________________________________________________________\n",
            "dropout_11 (Dropout)            (None, 832)          0           global_average_pooling2d[0][0]   \n",
            "__________________________________________________________________________________________________\n",
            "dense (Dense)                   (None, 512)          426496      dropout_11[0][0]                 \n",
            "__________________________________________________________________________________________________\n",
            "batch_normalization_1 (BatchNor (None, 512)          2048        dense[0][0]                      \n",
            "__________________________________________________________________________________________________\n",
            "re_lu_1 (ReLU)                  (None, 512)          0           batch_normalization_1[0][0]      \n",
            "__________________________________________________________________________________________________\n",
            "dropout_12 (Dropout)            (None, 512)          0           re_lu_1[0][0]                    \n",
            "__________________________________________________________________________________________________\n",
            "dense_1 (Dense)                 (None, 16)           8208        dropout_12[0][0]                 \n",
            "__________________________________________________________________________________________________\n",
            "tf_op_layer_l2_normalize/Square [(None, 16)]         0           dense_1[0][0]                    \n",
            "__________________________________________________________________________________________________\n",
            "tf_op_layer_l2_normalize/Sum (T [(None, 1)]          0           tf_op_layer_l2_normalize/Square[0\n",
            "__________________________________________________________________________________________________\n",
            "tf_op_layer_l2_normalize/Maximu [(None, 1)]          0           tf_op_layer_l2_normalize/Sum[0][0\n",
            "__________________________________________________________________________________________________\n",
            "tf_op_layer_l2_normalize/Rsqrt  [(None, 1)]          0           tf_op_layer_l2_normalize/Maximum[\n",
            "__________________________________________________________________________________________________\n",
            "tf_op_layer_l2_normalize (Tenso [(None, 16)]         0           dense_1[0][0]                    \n",
            "                                                                 tf_op_layer_l2_normalize/Rsqrt[0]\n",
            "==================================================================================================\n",
            "Total params: 4,727,360\n",
            "Trainable params: 2,527,120\n",
            "Non-trainable params: 2,200,240\n",
            "__________________________________________________________________________________________________\n"
          ],
          "name": "stdout"
        }
      ]
    },
    {
      "cell_type": "code",
      "metadata": {
        "id": "zlNtilYcpDm_",
        "colab_type": "code",
        "outputId": "7fedf8a2-2195-46bd-8d3d-9256af555975",
        "colab": {
          "base_uri": "https://localhost:8080/",
          "height": 527
        }
      },
      "source": [
        "inputs = keras.layers.Input(shape=(3,96, 96, 3))\n",
        "\n",
        "I1 = inputs[:,0,:,:,:]\n",
        "I2 = inputs[:,1,:,:,:]\n",
        "I3 = inputs[:,2,:,:,:]\n",
        "\n",
        "\n",
        "\n",
        "e_I1 = tf.expand_dims(feature_extractor(I1), axis=1)\n",
        "e_I2 = tf.expand_dims(feature_extractor(I2), axis=1)\n",
        "e_I3 = tf.expand_dims(feature_extractor(I3), axis=1)\n",
        "\n",
        "outs = tf.concat([e_I1, e_I2, e_I3], axis=1)\n",
        "\n",
        "model = keras.models.Model(inputs=inputs, outputs=outs, name=\"FECNet\")\n",
        "model.summary()"
      ],
      "execution_count": 58,
      "outputs": [
        {
          "output_type": "stream",
          "text": [
            "Model: \"FECNet\"\n",
            "__________________________________________________________________________________________________\n",
            "Layer (type)                    Output Shape         Param #     Connected to                     \n",
            "==================================================================================================\n",
            "input_3 (InputLayer)            [(None, 3, 96, 96, 3 0                                            \n",
            "__________________________________________________________________________________________________\n",
            "tf_op_layer_strided_slice (Tens [(None, 96, 96, 3)]  0           input_3[0][0]                    \n",
            "__________________________________________________________________________________________________\n",
            "tf_op_layer_strided_slice_1 (Te [(None, 96, 96, 3)]  0           input_3[0][0]                    \n",
            "__________________________________________________________________________________________________\n",
            "tf_op_layer_strided_slice_2 (Te [(None, 96, 96, 3)]  0           input_3[0][0]                    \n",
            "__________________________________________________________________________________________________\n",
            "FEC_extractor (Model)           (None, 16)           4727360     tf_op_layer_strided_slice[0][0]  \n",
            "                                                                 tf_op_layer_strided_slice_1[0][0]\n",
            "                                                                 tf_op_layer_strided_slice_2[0][0]\n",
            "__________________________________________________________________________________________________\n",
            "tf_op_layer_ExpandDims (TensorF [(None, 1, 16)]      0           FEC_extractor[1][0]              \n",
            "__________________________________________________________________________________________________\n",
            "tf_op_layer_ExpandDims_1 (Tenso [(None, 1, 16)]      0           FEC_extractor[2][0]              \n",
            "__________________________________________________________________________________________________\n",
            "tf_op_layer_ExpandDims_2 (Tenso [(None, 1, 16)]      0           FEC_extractor[3][0]              \n",
            "__________________________________________________________________________________________________\n",
            "tf_op_layer_concat (TensorFlowO [(None, 3, 16)]      0           tf_op_layer_ExpandDims[0][0]     \n",
            "                                                                 tf_op_layer_ExpandDims_1[0][0]   \n",
            "                                                                 tf_op_layer_ExpandDims_2[0][0]   \n",
            "==================================================================================================\n",
            "Total params: 4,727,360\n",
            "Trainable params: 2,527,120\n",
            "Non-trainable params: 2,200,240\n",
            "__________________________________________________________________________________________________\n"
          ],
          "name": "stdout"
        }
      ]
    },
    {
      "cell_type": "code",
      "metadata": {
        "id": "I2Lo4_uweejk",
        "colab_type": "code",
        "colab": {}
      },
      "source": [
        "# tf.keras.utils.plot_model(model)"
      ],
      "execution_count": 0,
      "outputs": []
    },
    {
      "cell_type": "code",
      "metadata": {
        "id": "h3J590me2TGx",
        "colab_type": "code",
        "colab": {}
      },
      "source": [
        "class FECLoss(keras.losses.Loss):\n",
        "  def __init__(\n",
        "      self,\n",
        "      reduction=keras.losses.Reduction.AUTO,\n",
        "      name='loss',\n",
        "      margin=0.1,\n",
        "  ):\n",
        "    super(FECLoss, self).__init__()\n",
        "    self.margin = margin\n",
        "\n",
        "  def call(self, labels, embeddings):\n",
        "    \n",
        "    ## embeddings shape is (BATCH_SIZE, 3, EMBEDDING_SIZE)\n",
        "    e_I1 = embeddings[:, 0, :]\n",
        "    e_I2 = embeddings[:, 1, :]\n",
        "    e_I3 = embeddings[:, 2, :]\n",
        "    \n",
        "    ## I1 & I2 are the most simmiliar pair\n",
        "    d_pos = tf.reduce_sum(tf.square(e_I1 - e_I2), axis=-1)\n",
        "    d_neg1 = tf.reduce_sum(tf.square(e_I1 - e_I3), axis=-1)\n",
        "    d_neg2 = tf.reduce_sum(tf.square(e_I2 - e_I3), axis=-1)\n",
        "    \n",
        "    loss3 = tf.maximum(0., d_pos - d_neg1 + self.margin) + tf.maximum(0., d_pos - d_neg2 + self.margin)\n",
        "\n",
        "    ## I2 & I3 are the most simmiliar pair\n",
        "    d_pos = tf.reduce_sum(tf.square(e_I2 - e_I3), axis=-1)\n",
        "    d_neg1 = tf.reduce_sum(tf.square(e_I1 - e_I3), axis=-1)\n",
        "    d_neg2 = tf.reduce_sum(tf.square(e_I2 - e_I1), axis=-1)\n",
        "    \n",
        "    loss1 = tf.maximum(0., d_pos - d_neg1 + self.margin) + tf.maximum(0., d_pos - d_neg2 + self.margin)\n",
        "\n",
        "    ## I1 & I3 are the most simmiliar pair\n",
        "    d_pos = tf.reduce_sum(tf.square(e_I1 - e_I3), axis=-1)\n",
        "    d_neg1 = tf.reduce_sum(tf.square(e_I1 - e_I2), axis=-1)\n",
        "    d_neg2 = tf.reduce_sum(tf.square(e_I2 - e_I3), axis=-1)\n",
        "    \n",
        "    loss2 = tf.maximum(0., d_pos - d_neg1 + self.margin) + tf.maximum(0., d_pos - d_neg2 + self.margin)\n",
        "\n",
        "    weights = tf.cast(labels[:,0:3], tf.float32)\n",
        "\n",
        "    loss1 = tf.expand_dims(loss1,-1)\n",
        "    loss2 = tf.expand_dims(loss2,-1)\n",
        "    loss3 = tf.expand_dims(loss3,-1)\n",
        "\n",
        "    loss = tf.reduce_sum(tf.concat([loss1,loss2,loss3], -1) * weights, axis=-1)\n",
        "    \n",
        "    return loss"
      ],
      "execution_count": 0,
      "outputs": []
    },
    {
      "cell_type": "code",
      "metadata": {
        "id": "NQ17OKChj7YC",
        "colab_type": "code",
        "colab": {}
      },
      "source": [
        "class FECMetrics(keras.metrics.Metric):\n",
        "\n",
        "    def __init__(self, name='accuracy', **kwargs):\n",
        "      super(FECMetrics, self).__init__(name=name, **kwargs)\n",
        "      self.accuracy = keras.metrics.Accuracy()\n",
        "\n",
        "    def update_state(self, y_true, y_pred, sample_weight=None):\n",
        "\n",
        "      e_I1 = y_pred[:, 0, :]\n",
        "      e_I2 = y_pred[:, 1, :]\n",
        "      e_I3 = y_pred[:, 2, :]\n",
        "\n",
        "      labels = tf.reshape(y_true[:, 0:3], (-1, 3))\n",
        "\n",
        "      d12 = tf.expand_dims(tf.reduce_sum(tf.square(e_I1 - e_I2), axis=-1), axis=-1)\n",
        "      d13 = tf.expand_dims(tf.reduce_sum(tf.square(e_I1 - e_I3), axis=-1), axis=-1)\n",
        "      d23 = tf.expand_dims(tf.reduce_sum(tf.square(e_I3 - e_I2), axis=-1), axis=-1)\n",
        "\n",
        "      distances = tf.concat([d23, d13, d12], axis=-1)\n",
        "\n",
        "      min_indices = tf.argmin(distances, axis=-1)\n",
        "      true_labels = tf.argmax(labels, axis=-1)\n",
        "\n",
        "      self.accuracy.update_state(min_indices, true_labels)\n",
        "\n",
        "\n",
        "    def result(self):\n",
        "      return self.accuracy.result()\n",
        "      \n",
        "    def reset_states(self):\n",
        "      self.accuracy.reset_states()\n"
      ],
      "execution_count": 0,
      "outputs": []
    },
    {
      "cell_type": "code",
      "metadata": {
        "id": "8b4WszVOwb0H",
        "colab_type": "code",
        "colab": {}
      },
      "source": [
        "# model = keras.models.load_model(\"./drive/My Drive/Models/FEC/fecnet_nn4_2\", compile=False)"
      ],
      "execution_count": 0,
      "outputs": []
    },
    {
      "cell_type": "code",
      "metadata": {
        "id": "wqFVTYNfRpil",
        "colab_type": "code",
        "colab": {}
      },
      "source": [
        "num_train = TRAIN_SIZE\n",
        "num_valid = VALIDATION_SIZE\n",
        "steps_per_epoch = round(num_train)//BATCH_SIZE\n",
        "validation_steps = round(num_valid)//BATCH_SIZE\n",
        "\n",
        "model.compile(optimizer=tf.keras.optimizers.Adam(learning_rate=0.0005),\n",
        "              loss=FECLoss(margin=0.15), metrics=[FECMetrics()])"
      ],
      "execution_count": 0,
      "outputs": []
    },
    {
      "cell_type": "code",
      "metadata": {
        "id": "7DBEzrIAowDX",
        "colab_type": "code",
        "outputId": "034e693c-119c-4334-e06f-a861c1f3c7e1",
        "colab": {
          "base_uri": "https://localhost:8080/",
          "height": 51
        }
      },
      "source": [
        "model.evaluate(valid_ds, steps=10)"
      ],
      "execution_count": 63,
      "outputs": [
        {
          "output_type": "stream",
          "text": [
            "10/10 [==============================] - 35s 4s/step - loss: 0.2940 - accuracy: 0.3516\n"
          ],
          "name": "stdout"
        },
        {
          "output_type": "execute_result",
          "data": {
            "text/plain": [
              "[0.2939596712589264, 0.3515625]"
            ]
          },
          "metadata": {
            "tags": []
          },
          "execution_count": 63
        }
      ]
    },
    {
      "cell_type": "code",
      "metadata": {
        "id": "Q6kZHMLlvFod",
        "colab_type": "code",
        "colab": {}
      },
      "source": [
        "latest = tf.train.latest_checkpoint('./drive/My Drive/Models/FEC/')\n",
        "model.load_weights(latest)"
      ],
      "execution_count": 0,
      "outputs": []
    },
    {
      "cell_type": "code",
      "metadata": {
        "id": "UZgfdoaB1v2c",
        "colab_type": "code",
        "colab": {
          "base_uri": "https://localhost:8080/",
          "height": 51
        },
        "outputId": "780ab95e-a04b-4a76-9b86-2fd873853127"
      },
      "source": [
        "model.evaluate(valid_ds, steps=validation_steps)"
      ],
      "execution_count": 76,
      "outputs": [
        {
          "output_type": "stream",
          "text": [
            "624/624 [==============================] - 535s 857ms/step - loss: 0.2514 - accuracy: 0.4882\n"
          ],
          "name": "stdout"
        },
        {
          "output_type": "execute_result",
          "data": {
            "text/plain": [
              "[0.25139215493049377, 0.48818108]"
            ]
          },
          "metadata": {
            "tags": []
          },
          "execution_count": 76
        }
      ]
    },
    {
      "cell_type": "code",
      "metadata": {
        "id": "PFz-K9Y-SCwQ",
        "colab_type": "code",
        "outputId": "f3e116af-ee32-40f2-f188-11f32d419376",
        "colab": {
          "base_uri": "https://localhost:8080/",
          "height": 68
        }
      },
      "source": [
        "callbacks = [\n",
        "    keras.callbacks.ModelCheckpoint(\n",
        "        filepath='./drive/My Drive/Models/FEC/Checkpoints/fecnet_nn4_{epoch}_{val_accuracy:.2f}',\n",
        "        save_weights_only=True,\n",
        "        save_best_only=True,\n",
        "        monitor='loss',\n",
        "        verbose=1),\n",
        "    keras.callbacks.EarlyStopping(monitor='loss', patience=8, restore_best_weights=True)\n",
        "]\n",
        "\n",
        "history = model.fit(train_ds,\n",
        "                    callbacks=callbacks,\n",
        "                    steps_per_epoch=steps_per_epoch,\n",
        "                    initial_epoch=2,\n",
        "                    epochs=100,\n",
        "                    validation_data=valid_ds,\n",
        "                    validation_steps=validation_steps)\n",
        "\n",
        "model.save(\"./drive/My Drive/Models/FEC/fecnet_nn4\")"
      ],
      "execution_count": 0,
      "outputs": [
        {
          "output_type": "stream",
          "text": [
            "Train for 2500 steps, validate for 624 steps\n",
            "Epoch 3/100\n",
            " 372/2500 [===>..........................] - ETA: 32:00 - loss: 0.2576 - accuracy: 0.4615"
          ],
          "name": "stdout"
        }
      ]
    },
    {
      "cell_type": "code",
      "metadata": {
        "id": "8uHVLYgn7Tkd",
        "colab_type": "code",
        "colab": {}
      },
      "source": [
        "model.evaluate(valid_ds)"
      ],
      "execution_count": 0,
      "outputs": []
    },
    {
      "cell_type": "code",
      "metadata": {
        "id": "v2Vvsue5Pckw",
        "colab_type": "code",
        "colab": {}
      },
      "source": [
        ""
      ],
      "execution_count": 0,
      "outputs": []
    }
  ]
}