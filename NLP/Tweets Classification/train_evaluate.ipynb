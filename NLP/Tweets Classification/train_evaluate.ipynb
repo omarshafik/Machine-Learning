{
 "nbformat": 4,
 "nbformat_minor": 2,
 "metadata": {
  "language_info": {
   "name": "python",
   "codemirror_mode": {
    "name": "ipython",
    "version": 3
   },
   "version": "3.6.9-final"
  },
  "orig_nbformat": 2,
  "file_extension": ".py",
  "mimetype": "text/x-python",
  "name": "python",
  "npconvert_exporter": "python",
  "pygments_lexer": "ipython3",
  "version": 3,
  "kernelspec": {
   "name": "python36964bit3a92d698046040508e9d536fcee8ff28",
   "display_name": "Python 3.6.9 64-bit"
  }
 },
 "cells": [
  {
   "cell_type": "markdown",
   "metadata": {},
   "source": [
    "## Tweets Classification  \n",
    "Logistic Regression model that classifies tweets of two users."
   ]
  },
  {
   "cell_type": "code",
   "execution_count": 1,
   "metadata": {},
   "outputs": [],
   "source": [
    "from sklearn.feature_extraction.text import TfidfVectorizer\n",
    "from sklearn.feature_extraction.text import CountVectorizer\n",
    "from sklearn.feature_extraction.text import TfidfTransformer\n",
    "from sklearn import linear_model\n",
    "import sys\n",
    "import json\n",
    "import pandas as pd\n",
    "import numpy as np\n",
    "from textacy import preprocessing, preprocess\n",
    "import nltk\n",
    "import string\n",
    "import textacy\n",
    "from collections import Counter\n",
    "from scipy import sparse\n",
    "import csv\n",
    "from sklearn.model_selection import GridSearchCV\n",
    "from sklearn.model_selection import train_test_split"
   ]
  },
  {
   "cell_type": "markdown",
   "metadata": {},
   "source": [
    "Retrieve text corpus from json files.  \n",
    "The corpus is two files of tweets from Trump and Clinton official accounts."
   ]
  },
  {
   "cell_type": "code",
   "execution_count": 2,
   "metadata": {},
   "outputs": [],
   "source": [
    "with open(\"TrumpTweets.json\", \"r\") as file:\n",
    "    TrumpTweets = json.load(file)\n",
    "with open(\"ClintonTweets.json\", \"r\") as file:\n",
    "    ClintonTweets = json.load(file)"
   ]
  },
  {
   "cell_type": "markdown",
   "metadata": {},
   "source": [
    "Use textacy toolkit to remove special characters, numbers and punctuations."
   ]
  },
  {
   "cell_type": "code",
   "execution_count": 4,
   "metadata": {},
   "outputs": [
    {
     "data": {
      "text/plain": "'0.10.0'"
     },
     "execution_count": 4,
     "metadata": {},
     "output_type": "execute_result"
    }
   ],
   "source": [
    "textacy.__version__"
   ]
  },
  {
   "cell_type": "code",
   "execution_count": 9,
   "metadata": {},
   "outputs": [],
   "source": [
    "def textacy_preprocess(line):\n",
    "    line = preprocessing.normalize_quotation_marks(line)\n",
    "    line = preprocessing.normalize_unicode(line)\n",
    "    line = preprocessing.normalize_whitespace(line)\n",
    "    line = preprocessing.remove_accents(line)\n",
    "    line = preprocessing.remove_punctuation(line)\n",
    "    line = preprocessing.replace_currency_symbols(line)\n",
    "    line = preprocessing.replace_emails(line)\n",
    "    line = preprocessing.replace_emojis(line)\n",
    "    line = preprocessing.replace_hashtags(line)\n",
    "    line = preprocessing.replace_numbers(line)\n",
    "    line = preprocessing.replace_phone_numbers(line)\n",
    "    line = preprocessing.replace_urls(line)\n",
    "    line = preprocessing.replace_user_handles(line)\n",
    "    return line"
   ]
  },
  {
   "cell_type": "code",
   "execution_count": 11,
   "metadata": {},
   "outputs": [],
   "source": [
    "tA = list(TrumpTweets['text'].values())\n",
    "cA = list(ClintonTweets['text'].values())\n",
    "tA = [textacy_preprocess(line.translate(str.maketrans('', '', string.digits))) for line in list(set(tA))]\n",
    "cA = [textacy_preprocess(line.translate(str.maketrans('', '', string.digits))) for line in list(set(cA))]\n"
   ]
  },
  {
   "cell_type": "markdown",
   "metadata": {},
   "source": [
    "Extract features of corpus using TF-IDF Vectorizer and obtain training data for the classifier"
   ]
  },
  {
   "cell_type": "code",
   "execution_count": 12,
   "metadata": {},
   "outputs": [],
   "source": [
    "tfidf_vectorizer = TfidfVectorizer(use_idf=True, ngram_range=(\n",
    "    1, 3), encoding='ascii', strip_accents='ascii', stop_words='english', max_features=2500)\n",
    "\n",
    "X = tA + cA\n",
    "y = [1]*len(tA) + [0]*len(cA)\n",
    "dataset = tfidf_vectorizer.fit_transform(X, y=y).toarray()\n",
    "Features = tfidf_vectorizer.get_feature_names()\n",
    "datasetDF = pd.DataFrame(dataset)\n",
    "Xset = pd.DataFrame(datasetDF)\n",
    "Yset = pd.DataFrame(y)"
   ]
  },
  {
   "cell_type": "markdown",
   "metadata": {},
   "source": [
    "Split dataset into 80% train, 20% test sets."
   ]
  },
  {
   "cell_type": "code",
   "execution_count": 13,
   "metadata": {},
   "outputs": [],
   "source": [
    "X_train, X_test, y_train, y_test = train_test_split(\n",
    "    Xset.values.tolist(), Yset.values.tolist(), test_size=0.2, random_state=42)"
   ]
  },
  {
   "cell_type": "markdown",
   "metadata": {},
   "source": [
    "Fit a logistic regression model using SGD optimizer.  \n",
    "Do a grid search for hyperparameter tuning."
   ]
  },
  {
   "cell_type": "code",
   "execution_count": 14,
   "metadata": {},
   "outputs": [
    {
     "name": "stdout",
     "output_type": "stream",
     "text": "Training set score: 0.954688731284476\nTest set score: 0.9212598425196851\n"
    }
   ],
   "source": [
    "logRegModel = linear_model.SGDClassifier(loss='log', max_iter=1000, tol=1e-3)\n",
    "parameters = {'alpha': [0.00001, 0.00003, 0.0001, 0.0003, 0.001,\n",
    "                        0.003, 0.01, 0.03, 0.1, 0.3, 1, 3, 10, 30]}\n",
    "optLRModel = GridSearchCV(logRegModel, parameters, cv=5)\n",
    "optLRModel = optLRModel.fit(X_train, np.ravel(y_train))\n",
    "# datasetDF.to_csv('dataset.csv')\n",
    "print(\"Training set score: \" + str(optLRModel.score(X_train, np.ravel(y_train))))\n",
    "print(\"Test set score: \" + str(optLRModel.score(X_test, np.ravel(y_test))))"
   ]
  },
  {
   "cell_type": "markdown",
   "metadata": {},
   "source": [
    "Prediction Demo: "
   ]
  },
  {
   "cell_type": "code",
   "execution_count": 22,
   "metadata": {},
   "outputs": [
    {
     "name": "stdout",
     "output_type": "stream",
     "text": "1. Trump's tweet\nRT  CwElliott   dbongino You are correct     Dan  A bunch of us have been talking  and this is just the DNC buying and paying for the   \n*******************************************\n2. Clinton's tweet\nEvery minute of Michelle Obama s minute speech today is worth watching  https   t co ZlEXYaUa\n*******************************************\n1. Prediction:  Trump\n2. Prediction:  Clinton\n*******************************************\n1. Trump's tweet\nRT  callme Chari   newscomauHQ If he s anything like Trump congratulations to you all  You have a leader who loves your country and will pu   \n*******************************************\n2. Clinton's tweet\nWe are not going to build a wall and deport million people  That s not happening   DebateNight\n*******************************************\n1. Prediction:  Clinton\n2. Prediction:  Clinton\n*******************************************\n1. Trump's tweet\nFinally  great news at the Border  https   t co nofzYaQs\n*******************************************\n2. Clinton's tweet\n To Barack and Michelle Obama  our country owes you an enormous debt of gratitude  We thank you for your graceful  determined leadership  \n*******************************************\n1. Prediction:  Trump\n2. Prediction:  Clinton\n*******************************************\n1. Trump's tweet\nActing Secretary of Defense Patrick Shanahan  who has done a wonderful job  has decided not to go forward with his    https   t co ULQndoH\n*******************************************\n2. Clinton's tweet\nWe have a Republican nominee for president who incites hatred and violence like we ve never seen before \n*******************************************\n1. Prediction:  Trump\n2. Prediction:  Clinton\n*******************************************\n1. Trump's tweet\nLaw Enforcement is looking into another big corruption scandal having to do with Election Fraud in  Broward and Pal    https   t co InKjfb\n*******************************************\n2. Clinton's tweet\nLast night was a great reminder of what s possible when we come together and fight for what we believe in  So I wan    https   t co csFKrpWwH\n*******************************************\n1. Prediction:  Trump\n2. Prediction:  Clinton\n*******************************************\n1. Trump's tweet\nRT  GOPChairwoman  Joe Biden literally can t hide from the economic successes of  realDonaldTrump s administration  \n \nBiden chose Pennsylv   \n*******************************************\n2. Clinton's tweet\nMeet the first  OnwardTogether partner organizations  I think you ll find them as inspiring as I do    and I hop    https   t co wgpKphIun\n*******************************************\n1. Prediction:  Trump\n2. Prediction:  Clinton\n*******************************************\n1. Trump's tweet\nRT  sendavidperdue  President Trump again spoke directly to the American people about the national security crisis at our southern border    \n*******************************************\n2. Clinton's tweet\nThank you    VicenteFdez  You re right  su voz es su voto   So grateful to have your support   JuntosSePuede https   t co jvKAV\n*******************************************\n1. Prediction:  Trump\n2. Prediction:  Clinton\n*******************************************\n1. Trump's tweet\nRT  PrisonPlanet  The support for me has been incredible  This could actually lead to some genuine change  Keep up the pressure  Don t let   \n*******************************************\n2. Clinton's tweet\nWith our democracy in crisis and our institutions and traditions under siege  we need to do everything we can to fight back  Here s how \n*******************************************\n1. Prediction:  Clinton\n2. Prediction:  Clinton\n*******************************************\n1. Trump's tweet\nRT  kantei   SNS投稿  本日 トランフ大統領と共に 海上自衛隊の護衛艦 かか を訪問しました 日米両国の首脳か揃って 自衛隊 米軍を激励するのは 史上初めてのことてす  総理メッセーシの続きは\nhttps   t co HLWIQcmaH\nhttps   t    \n*******************************************\n2. Clinton's tweet\nRT  timkaine  People have seen almost years of tax returns from Hillary  One set from Trump really isn t too much to ask  https   t co K   \n*******************************************\n1. Prediction:  Trump\n2. Prediction:  Clinton\n*******************************************\n1. Trump's tweet\nSorry Chief Justice John Roberts  but you do indeed have  Obama judges   and they have a much different point of vi    https   t co gIByfadPmu\n*******************************************\n2. Clinton's tweet\nIt was a historic night in so many ways  For the first time ever  over women were elected to Congress including    https   t co jaAjyA\n*******************************************\n1. Prediction:  Trump\n2. Prediction:  Clinton\n*******************************************\n"
    }
   ],
   "source": [
    "for i in range(10):\n",
    "    print(\"1. Trump's tweet\")\n",
    "    print(tA[i])\n",
    "    print(\"*******************************************\")\n",
    "    print(\"2. Clinton's tweet\")\n",
    "    print(cA[i])\n",
    "    print(\"*******************************************\")\n",
    "    l1 = textacy_preprocess(tA[i].translate(str.maketrans('', '', string.digits)))\n",
    "    x1 = tfidf_vectorizer.transform([l1])\n",
    "    l2 = textacy_preprocess(cA[i].translate(str.maketrans('', '', string.digits)))\n",
    "    x2 = tfidf_vectorizer.transform([l2])\n",
    "    print(\"1. Prediction: \", \"Trump\" if (optLRModel.predict(x1) == 1) else \"Clinton\")\n",
    "    print(\"2. Prediction: \", \"Trump\" if (optLRModel.predict(x2) == 1) else \"Clinton\")\n",
    "    print(\"*******************************************\")\n",
    "\n",
    "# str1 = \"We’re going to put a lot of coal miners and coal companies out of business.\"\n",
    "# str2 = \"When Mexico sends its people, they're not sending their best,\"\n",
    "# str3 = \"I've read hundreds of books about China over the decades. I know the Chinese. I've made a lot of money with the Chinese. I understand the Chinese mind.\"\n",
    "# str4 = \"They're sending people that have lots of problems, and they're bringing those problems with us. They're bringing drugs. They're bringing crime. They're rapists. And some, I assume, are good people.\"\n",
    "# str5 = \"They are often connected to big drug cartels, they are not just gangs of kids anymore. They are often the kinds of kids that are called superpredators — no conscience, no empathy. We can talk about why they ended up that way, but first, we have to bring them to heel.\"\n",
    "# l1 = textacy_preprocess(str1.translate(str.maketrans('', '', string.digits)))\n",
    "# l2 = textacy_preprocess(str2.translate(str.maketrans('', '', string.digits)))\n",
    "# l3 = textacy_preprocess(str3.translate(str.maketrans('', '', string.digits)))\n",
    "# l4 = textacy_preprocess(str4.translate(str.maketrans('', '', string.digits)))\n",
    "# l5 = textacy_preprocess(str5.translate(str.maketrans('', '', string.digits)))\n",
    "\n",
    "# x1 = tfidf_vectorizer.transform([l1])\n",
    "# x2 = tfidf_vectorizer.transform([l2])\n",
    "# x3 = tfidf_vectorizer.transform([l3])\n",
    "# x4 = tfidf_vectorizer.transform([l4])\n",
    "# x5 = tfidf_vectorizer.transform([l5])\n",
    "\n",
    "# print(\"/*******************/\")\n",
    "# print(optLRModel.predict(x1))\n",
    "# print(optLRModel.predict(x2))\n",
    "# print(optLRModel.predict(x3))\n",
    "# print(optLRModel.predict(x4))\n",
    "# print(optLRModel.predict(x5))\n"
   ]
  },
  {
   "cell_type": "code",
   "execution_count": null,
   "metadata": {},
   "outputs": [],
   "source": []
  }
 ]
}